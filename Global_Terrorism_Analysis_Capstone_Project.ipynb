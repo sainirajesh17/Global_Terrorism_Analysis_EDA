{
  "nbformat": 4,
  "nbformat_minor": 0,
  "metadata": {
    "kernelspec": {
      "display_name": "Python 3",
      "language": "python",
      "name": "python3"
    },
    "language_info": {
      "codemirror_mode": {
        "name": "ipython",
        "version": 3
      },
      "file_extension": ".py",
      "mimetype": "text/x-python",
      "name": "python",
      "nbconvert_exporter": "python",
      "pygments_lexer": "ipython3",
      "version": "3.6.6"
    },
    "colab": {
      "name": "Global Terrorism Analysis - Capstone Project.ipynb",
      "provenance": [],
      "collapsed_sections": [],
      "include_colab_link": true
    }
  },
  "cells": [
    {
      "cell_type": "markdown",
      "metadata": {
        "id": "view-in-github",
        "colab_type": "text"
      },
      "source": [
        "<a href=\"https://colab.research.google.com/github/sainirajesh17/Global_Terrorism_Analysis_EDA/blob/main/Global_Terrorism_Analysis_Capstone_Project.ipynb\" target=\"_parent\"><img src=\"https://colab.research.google.com/assets/colab-badge.svg\" alt=\"Open In Colab\"/></a>"
      ]
    },
    {
      "cell_type": "markdown",
      "source": [
        "## <b> GLOBAL TERRORISM DATABASE </b>\n"
      ],
      "metadata": {
        "id": "0RK96kDoQO5P"
      }
    },
    {
      "cell_type": "markdown",
      "metadata": {
        "id": "Y06xIdG26kRF"
      },
      "source": [
        "## <b> The Global Terrorism Database (GTD) is an open-source database including information on terrorist attacks around the world from 1970 through 2017. The GTD includes systematic data on domestic as well as international terrorist incidents that have occurred during this time period and now includes more than 180,000 attacks. The database is maintained by researchers at the National Consortium for the Study of Terrorism and Responses to Terrorism (START), headquartered at the University of Maryland.</b>\n",
        "\n",
        "# <b> Explore and analyze the data to discover key findings pertaining to terrorist activities. </b>"
      ]
    },
    {
      "cell_type": "markdown",
      "source": [
        "## <b> 1.  Getting the data ready for Classification </b>\n"
      ],
      "metadata": {
        "id": "ZKBY5hqxQWgZ"
      }
    },
    {
      "cell_type": "code",
      "metadata": {
        "id": "dByMsuzT8Tnw"
      },
      "source": [
        "# We will start with importing some important libraries \n",
        "\n",
        "import numpy as np\n",
        "import pandas as pd\n",
        "import seaborn as sns\n",
        "import matplotlib.pyplot as plt\n",
        "from datetime import datetime\n",
        "\n",
        "%matplotlib inline"
      ],
      "execution_count": null,
      "outputs": []
    },
    {
      "cell_type": "code",
      "source": [
        "# Mounting the Drive\n",
        " \n",
        "from google.colab import drive\n",
        "drive.mount('/content/drive')"
      ],
      "metadata": {
        "colab": {
          "base_uri": "https://localhost:8080/"
        },
        "id": "PXQU64BQ_3-N",
        "outputId": "11a04093-a0e5-46f7-8bbb-a369416b0aa4"
      },
      "execution_count": null,
      "outputs": [
        {
          "output_type": "stream",
          "name": "stdout",
          "text": [
            "Mounted at /content/drive\n"
          ]
        }
      ]
    },
    {
      "cell_type": "code",
      "source": [
        "# Importing the required data from the drive\n",
        "\n",
        "file_path = \"/content/drive/MyDrive/EDA - Global Terrorism Analysis/Global Terrorism Data.csv\"\n",
        "terrorism_data = pd.read_csv(file_path, encoding='ISO-8859-1')"
      ],
      "metadata": {
        "id": "YrEJNoAvBrCL",
        "colab": {
          "base_uri": "https://localhost:8080/"
        },
        "outputId": "872e88a2-23e4-4680-af17-3c15b851a76a"
      },
      "execution_count": null,
      "outputs": [
        {
          "output_type": "stream",
          "name": "stderr",
          "text": [
            "/usr/local/lib/python3.7/dist-packages/IPython/core/interactiveshell.py:2882: DtypeWarning: Columns (4,6,31,33,61,62,63,76,79,90,92,94,96,114,115,121) have mixed types.Specify dtype option on import or set low_memory=False.\n",
            "  exec(code_obj, self.user_global_ns, self.user_ns)\n"
          ]
        }
      ]
    },
    {
      "cell_type": "code",
      "source": [
        "# Checking the data with the head method\n",
        " \n",
        "terrorism_data.head(2)"
      ],
      "metadata": {
        "id": "PMdha7PBCJ4o",
        "colab": {
          "base_uri": "https://localhost:8080/",
          "height": 223
        },
        "outputId": "0c4fc6f3-b712-4f05-8a2e-20e73a6356a8"
      },
      "execution_count": null,
      "outputs": [
        {
          "output_type": "execute_result",
          "data": {
            "text/plain": [
              "        eventid  iyear  imonth  iday approxdate  extended resolution  country  \\\n",
              "0  197000000001   1970       7     2        NaN         0        NaN       58   \n",
              "1  197000000002   1970       0     0        NaN         0        NaN      130   \n",
              "\n",
              "          country_txt  region  ... addnotes scite1 scite2  scite3  dbsource  \\\n",
              "0  Dominican Republic       2  ...      NaN    NaN    NaN     NaN      PGIS   \n",
              "1              Mexico       1  ...      NaN    NaN    NaN     NaN      PGIS   \n",
              "\n",
              "   INT_LOG  INT_IDEO INT_MISC INT_ANY  related  \n",
              "0        0         0        0       0      NaN  \n",
              "1        0         1        1       1      NaN  \n",
              "\n",
              "[2 rows x 135 columns]"
            ],
            "text/html": [
              "\n",
              "  <div id=\"df-8565a188-1012-473d-b0c9-a2c259b97b0d\">\n",
              "    <div class=\"colab-df-container\">\n",
              "      <div>\n",
              "<style scoped>\n",
              "    .dataframe tbody tr th:only-of-type {\n",
              "        vertical-align: middle;\n",
              "    }\n",
              "\n",
              "    .dataframe tbody tr th {\n",
              "        vertical-align: top;\n",
              "    }\n",
              "\n",
              "    .dataframe thead th {\n",
              "        text-align: right;\n",
              "    }\n",
              "</style>\n",
              "<table border=\"1\" class=\"dataframe\">\n",
              "  <thead>\n",
              "    <tr style=\"text-align: right;\">\n",
              "      <th></th>\n",
              "      <th>eventid</th>\n",
              "      <th>iyear</th>\n",
              "      <th>imonth</th>\n",
              "      <th>iday</th>\n",
              "      <th>approxdate</th>\n",
              "      <th>extended</th>\n",
              "      <th>resolution</th>\n",
              "      <th>country</th>\n",
              "      <th>country_txt</th>\n",
              "      <th>region</th>\n",
              "      <th>...</th>\n",
              "      <th>addnotes</th>\n",
              "      <th>scite1</th>\n",
              "      <th>scite2</th>\n",
              "      <th>scite3</th>\n",
              "      <th>dbsource</th>\n",
              "      <th>INT_LOG</th>\n",
              "      <th>INT_IDEO</th>\n",
              "      <th>INT_MISC</th>\n",
              "      <th>INT_ANY</th>\n",
              "      <th>related</th>\n",
              "    </tr>\n",
              "  </thead>\n",
              "  <tbody>\n",
              "    <tr>\n",
              "      <th>0</th>\n",
              "      <td>197000000001</td>\n",
              "      <td>1970</td>\n",
              "      <td>7</td>\n",
              "      <td>2</td>\n",
              "      <td>NaN</td>\n",
              "      <td>0</td>\n",
              "      <td>NaN</td>\n",
              "      <td>58</td>\n",
              "      <td>Dominican Republic</td>\n",
              "      <td>2</td>\n",
              "      <td>...</td>\n",
              "      <td>NaN</td>\n",
              "      <td>NaN</td>\n",
              "      <td>NaN</td>\n",
              "      <td>NaN</td>\n",
              "      <td>PGIS</td>\n",
              "      <td>0</td>\n",
              "      <td>0</td>\n",
              "      <td>0</td>\n",
              "      <td>0</td>\n",
              "      <td>NaN</td>\n",
              "    </tr>\n",
              "    <tr>\n",
              "      <th>1</th>\n",
              "      <td>197000000002</td>\n",
              "      <td>1970</td>\n",
              "      <td>0</td>\n",
              "      <td>0</td>\n",
              "      <td>NaN</td>\n",
              "      <td>0</td>\n",
              "      <td>NaN</td>\n",
              "      <td>130</td>\n",
              "      <td>Mexico</td>\n",
              "      <td>1</td>\n",
              "      <td>...</td>\n",
              "      <td>NaN</td>\n",
              "      <td>NaN</td>\n",
              "      <td>NaN</td>\n",
              "      <td>NaN</td>\n",
              "      <td>PGIS</td>\n",
              "      <td>0</td>\n",
              "      <td>1</td>\n",
              "      <td>1</td>\n",
              "      <td>1</td>\n",
              "      <td>NaN</td>\n",
              "    </tr>\n",
              "  </tbody>\n",
              "</table>\n",
              "<p>2 rows × 135 columns</p>\n",
              "</div>\n",
              "      <button class=\"colab-df-convert\" onclick=\"convertToInteractive('df-8565a188-1012-473d-b0c9-a2c259b97b0d')\"\n",
              "              title=\"Convert this dataframe to an interactive table.\"\n",
              "              style=\"display:none;\">\n",
              "        \n",
              "  <svg xmlns=\"http://www.w3.org/2000/svg\" height=\"24px\"viewBox=\"0 0 24 24\"\n",
              "       width=\"24px\">\n",
              "    <path d=\"M0 0h24v24H0V0z\" fill=\"none\"/>\n",
              "    <path d=\"M18.56 5.44l.94 2.06.94-2.06 2.06-.94-2.06-.94-.94-2.06-.94 2.06-2.06.94zm-11 1L8.5 8.5l.94-2.06 2.06-.94-2.06-.94L8.5 2.5l-.94 2.06-2.06.94zm10 10l.94 2.06.94-2.06 2.06-.94-2.06-.94-.94-2.06-.94 2.06-2.06.94z\"/><path d=\"M17.41 7.96l-1.37-1.37c-.4-.4-.92-.59-1.43-.59-.52 0-1.04.2-1.43.59L10.3 9.45l-7.72 7.72c-.78.78-.78 2.05 0 2.83L4 21.41c.39.39.9.59 1.41.59.51 0 1.02-.2 1.41-.59l7.78-7.78 2.81-2.81c.8-.78.8-2.07 0-2.86zM5.41 20L4 18.59l7.72-7.72 1.47 1.35L5.41 20z\"/>\n",
              "  </svg>\n",
              "      </button>\n",
              "      \n",
              "  <style>\n",
              "    .colab-df-container {\n",
              "      display:flex;\n",
              "      flex-wrap:wrap;\n",
              "      gap: 12px;\n",
              "    }\n",
              "\n",
              "    .colab-df-convert {\n",
              "      background-color: #E8F0FE;\n",
              "      border: none;\n",
              "      border-radius: 50%;\n",
              "      cursor: pointer;\n",
              "      display: none;\n",
              "      fill: #1967D2;\n",
              "      height: 32px;\n",
              "      padding: 0 0 0 0;\n",
              "      width: 32px;\n",
              "    }\n",
              "\n",
              "    .colab-df-convert:hover {\n",
              "      background-color: #E2EBFA;\n",
              "      box-shadow: 0px 1px 2px rgba(60, 64, 67, 0.3), 0px 1px 3px 1px rgba(60, 64, 67, 0.15);\n",
              "      fill: #174EA6;\n",
              "    }\n",
              "\n",
              "    [theme=dark] .colab-df-convert {\n",
              "      background-color: #3B4455;\n",
              "      fill: #D2E3FC;\n",
              "    }\n",
              "\n",
              "    [theme=dark] .colab-df-convert:hover {\n",
              "      background-color: #434B5C;\n",
              "      box-shadow: 0px 1px 3px 1px rgba(0, 0, 0, 0.15);\n",
              "      filter: drop-shadow(0px 1px 2px rgba(0, 0, 0, 0.3));\n",
              "      fill: #FFFFFF;\n",
              "    }\n",
              "  </style>\n",
              "\n",
              "      <script>\n",
              "        const buttonEl =\n",
              "          document.querySelector('#df-8565a188-1012-473d-b0c9-a2c259b97b0d button.colab-df-convert');\n",
              "        buttonEl.style.display =\n",
              "          google.colab.kernel.accessAllowed ? 'block' : 'none';\n",
              "\n",
              "        async function convertToInteractive(key) {\n",
              "          const element = document.querySelector('#df-8565a188-1012-473d-b0c9-a2c259b97b0d');\n",
              "          const dataTable =\n",
              "            await google.colab.kernel.invokeFunction('convertToInteractive',\n",
              "                                                     [key], {});\n",
              "          if (!dataTable) return;\n",
              "\n",
              "          const docLinkHtml = 'Like what you see? Visit the ' +\n",
              "            '<a target=\"_blank\" href=https://colab.research.google.com/notebooks/data_table.ipynb>data table notebook</a>'\n",
              "            + ' to learn more about interactive tables.';\n",
              "          element.innerHTML = '';\n",
              "          dataTable['output_type'] = 'display_data';\n",
              "          await google.colab.output.renderOutput(dataTable, element);\n",
              "          const docLink = document.createElement('div');\n",
              "          docLink.innerHTML = docLinkHtml;\n",
              "          element.appendChild(docLink);\n",
              "        }\n",
              "      </script>\n",
              "    </div>\n",
              "  </div>\n",
              "  "
            ]
          },
          "metadata": {},
          "execution_count": 6
        }
      ]
    },
    {
      "cell_type": "code",
      "source": [
        "# Checking the columns available in the dataset \n",
        "\n",
        "terrorism_data.columns"
      ],
      "metadata": {
        "id": "oOGJvuwXDPmT",
        "colab": {
          "base_uri": "https://localhost:8080/"
        },
        "outputId": "cc6e4a82-2520-43ac-84cb-a4715a4f7997"
      },
      "execution_count": null,
      "outputs": [
        {
          "output_type": "execute_result",
          "data": {
            "text/plain": [
              "Index(['eventid', 'iyear', 'imonth', 'iday', 'approxdate', 'extended',\n",
              "       'resolution', 'country', 'country_txt', 'region',\n",
              "       ...\n",
              "       'addnotes', 'scite1', 'scite2', 'scite3', 'dbsource', 'INT_LOG',\n",
              "       'INT_IDEO', 'INT_MISC', 'INT_ANY', 'related'],\n",
              "      dtype='object', length=135)"
            ]
          },
          "metadata": {},
          "execution_count": 7
        }
      ]
    },
    {
      "cell_type": "code",
      "source": [
        "# checking the shape of the dataset\n",
        "\n",
        "terrorism_data.shape"
      ],
      "metadata": {
        "id": "LmmbmHALDfwW",
        "colab": {
          "base_uri": "https://localhost:8080/"
        },
        "outputId": "6e7054f1-87a7-4016-ae7c-706f0eaeef25"
      },
      "execution_count": null,
      "outputs": [
        {
          "output_type": "execute_result",
          "data": {
            "text/plain": [
              "(181691, 135)"
            ]
          },
          "metadata": {},
          "execution_count": 8
        }
      ]
    },
    {
      "cell_type": "code",
      "source": [
        "# By the info method we can check the Nan values and the datatype of all the columns in our dataset\n",
        "\n",
        "terrorism_data.info(verbose= True, null_counts = True)"
      ],
      "metadata": {
        "id": "vESnzgAiFmBE",
        "colab": {
          "base_uri": "https://localhost:8080/"
        },
        "outputId": "4de294f1-27cf-4996-e93b-01d10b54a4c2"
      },
      "execution_count": null,
      "outputs": [
        {
          "output_type": "stream",
          "name": "stderr",
          "text": [
            "/usr/local/lib/python3.7/dist-packages/ipykernel_launcher.py:3: FutureWarning: null_counts is deprecated. Use show_counts instead\n",
            "  This is separate from the ipykernel package so we can avoid doing imports until\n"
          ]
        },
        {
          "output_type": "stream",
          "name": "stdout",
          "text": [
            "<class 'pandas.core.frame.DataFrame'>\n",
            "RangeIndex: 181691 entries, 0 to 181690\n",
            "Data columns (total 135 columns):\n",
            " #    Column              Non-Null Count   Dtype  \n",
            "---   ------              --------------   -----  \n",
            " 0    eventid             181691 non-null  int64  \n",
            " 1    iyear               181691 non-null  int64  \n",
            " 2    imonth              181691 non-null  int64  \n",
            " 3    iday                181691 non-null  int64  \n",
            " 4    approxdate          9239 non-null    object \n",
            " 5    extended            181691 non-null  int64  \n",
            " 6    resolution          2220 non-null    object \n",
            " 7    country             181691 non-null  int64  \n",
            " 8    country_txt         181691 non-null  object \n",
            " 9    region              181691 non-null  int64  \n",
            " 10   region_txt          181691 non-null  object \n",
            " 11   provstate           181270 non-null  object \n",
            " 12   city                181257 non-null  object \n",
            " 13   latitude            177135 non-null  float64\n",
            " 14   longitude           177134 non-null  float64\n",
            " 15   specificity         181685 non-null  float64\n",
            " 16   vicinity            181691 non-null  int64  \n",
            " 17   location            55495 non-null   object \n",
            " 18   summary             115562 non-null  object \n",
            " 19   crit1               181691 non-null  int64  \n",
            " 20   crit2               181691 non-null  int64  \n",
            " 21   crit3               181691 non-null  int64  \n",
            " 22   doubtterr           181690 non-null  float64\n",
            " 23   alternative         29011 non-null   float64\n",
            " 24   alternative_txt     29011 non-null   object \n",
            " 25   multiple            181690 non-null  float64\n",
            " 26   success             181691 non-null  int64  \n",
            " 27   suicide             181691 non-null  int64  \n",
            " 28   attacktype1         181691 non-null  int64  \n",
            " 29   attacktype1_txt     181691 non-null  object \n",
            " 30   attacktype2         6314 non-null    float64\n",
            " 31   attacktype2_txt     6314 non-null    object \n",
            " 32   attacktype3         428 non-null     float64\n",
            " 33   attacktype3_txt     428 non-null     object \n",
            " 34   targtype1           181691 non-null  int64  \n",
            " 35   targtype1_txt       181691 non-null  object \n",
            " 36   targsubtype1        171318 non-null  float64\n",
            " 37   targsubtype1_txt    171318 non-null  object \n",
            " 38   corp1               139141 non-null  object \n",
            " 39   target1             181055 non-null  object \n",
            " 40   natlty1             180132 non-null  float64\n",
            " 41   natlty1_txt         180132 non-null  object \n",
            " 42   targtype2           11144 non-null   float64\n",
            " 43   targtype2_txt       11144 non-null   object \n",
            " 44   targsubtype2        10685 non-null   float64\n",
            " 45   targsubtype2_txt    10685 non-null   object \n",
            " 46   corp2               10117 non-null   object \n",
            " 47   target2             11020 non-null   object \n",
            " 48   natlty2             10828 non-null   float64\n",
            " 49   natlty2_txt         10828 non-null   object \n",
            " 50   targtype3           1176 non-null    float64\n",
            " 51   targtype3_txt       1176 non-null    object \n",
            " 52   targsubtype3        1097 non-null    float64\n",
            " 53   targsubtype3_txt    1097 non-null    object \n",
            " 54   corp3               1026 non-null    object \n",
            " 55   target3             1175 non-null    object \n",
            " 56   natlty3             1147 non-null    float64\n",
            " 57   natlty3_txt         1147 non-null    object \n",
            " 58   gname               181691 non-null  object \n",
            " 59   gsubname            5890 non-null    object \n",
            " 60   gname2              2013 non-null    object \n",
            " 61   gsubname2           160 non-null     object \n",
            " 62   gname3              324 non-null     object \n",
            " 63   gsubname3           20 non-null      object \n",
            " 64   motive              50561 non-null   object \n",
            " 65   guncertain1         181311 non-null  float64\n",
            " 66   guncertain2         1955 non-null    float64\n",
            " 67   guncertain3         320 non-null     float64\n",
            " 68   individual          181691 non-null  int64  \n",
            " 69   nperps              110576 non-null  float64\n",
            " 70   nperpcap            112202 non-null  float64\n",
            " 71   claimed             115571 non-null  float64\n",
            " 72   claimmode           19083 non-null   float64\n",
            " 73   claimmode_txt       19083 non-null   object \n",
            " 74   claim2              1890 non-null    float64\n",
            " 75   claimmode2          616 non-null     float64\n",
            " 76   claimmode2_txt      616 non-null     object \n",
            " 77   claim3              318 non-null     float64\n",
            " 78   claimmode3          133 non-null     float64\n",
            " 79   claimmode3_txt      133 non-null     object \n",
            " 80   compclaim           4839 non-null    float64\n",
            " 81   weaptype1           181691 non-null  int64  \n",
            " 82   weaptype1_txt       181691 non-null  object \n",
            " 83   weapsubtype1        160923 non-null  float64\n",
            " 84   weapsubtype1_txt    160923 non-null  object \n",
            " 85   weaptype2           13127 non-null   float64\n",
            " 86   weaptype2_txt       13127 non-null   object \n",
            " 87   weapsubtype2        11542 non-null   float64\n",
            " 88   weapsubtype2_txt    11542 non-null   object \n",
            " 89   weaptype3           1863 non-null    float64\n",
            " 90   weaptype3_txt       1863 non-null    object \n",
            " 91   weapsubtype3        1693 non-null    float64\n",
            " 92   weapsubtype3_txt    1693 non-null    object \n",
            " 93   weaptype4           73 non-null      float64\n",
            " 94   weaptype4_txt       73 non-null      object \n",
            " 95   weapsubtype4        70 non-null      float64\n",
            " 96   weapsubtype4_txt    70 non-null      object \n",
            " 97   weapdetail          114021 non-null  object \n",
            " 98   nkill               171378 non-null  float64\n",
            " 99   nkillus             117245 non-null  float64\n",
            " 100  nkillter            114733 non-null  float64\n",
            " 101  nwound              165380 non-null  float64\n",
            " 102  nwoundus            116989 non-null  float64\n",
            " 103  nwoundte            112548 non-null  float64\n",
            " 104  property            181691 non-null  int64  \n",
            " 105  propextent          64065 non-null   float64\n",
            " 106  propextent_txt      64065 non-null   object \n",
            " 107  propvalue           38989 non-null   float64\n",
            " 108  propcomment         57959 non-null   object \n",
            " 109  ishostkid           181513 non-null  float64\n",
            " 110  nhostkid            13572 non-null   float64\n",
            " 111  nhostkidus          13517 non-null   float64\n",
            " 112  nhours              4063 non-null    float64\n",
            " 113  ndays               8124 non-null    float64\n",
            " 114  divert              324 non-null     object \n",
            " 115  kidhijcountry       3305 non-null    object \n",
            " 116  ransom              77381 non-null   float64\n",
            " 117  ransomamt           1350 non-null    float64\n",
            " 118  ransomamtus         563 non-null     float64\n",
            " 119  ransompaid          774 non-null     float64\n",
            " 120  ransompaidus        552 non-null     float64\n",
            " 121  ransomnote          514 non-null     object \n",
            " 122  hostkidoutcome      10991 non-null   float64\n",
            " 123  hostkidoutcome_txt  10991 non-null   object \n",
            " 124  nreleased           10400 non-null   float64\n",
            " 125  addnotes            28289 non-null   object \n",
            " 126  scite1              115500 non-null  object \n",
            " 127  scite2              76933 non-null   object \n",
            " 128  scite3              43516 non-null   object \n",
            " 129  dbsource            181691 non-null  object \n",
            " 130  INT_LOG             181691 non-null  int64  \n",
            " 131  INT_IDEO            181691 non-null  int64  \n",
            " 132  INT_MISC            181691 non-null  int64  \n",
            " 133  INT_ANY             181691 non-null  int64  \n",
            " 134  related             25038 non-null   object \n",
            "dtypes: float64(55), int64(22), object(58)\n",
            "memory usage: 187.1+ MB\n"
          ]
        }
      ]
    },
    {
      "cell_type": "markdown",
      "source": [
        "## <b> 2. Cleaning the data"
      ],
      "metadata": {
        "id": "csOURoMBD_xM"
      }
    },
    {
      "cell_type": "code",
      "source": [
        "# Now we have created a new dataset (i.e terrorism_data_new) where we will keep only the columns which we need for the analysis\n",
        "\n",
        "terrorism_data_new = terrorism_data[['iyear', 'imonth', 'iday', 'country_txt', 'region_txt', 'provstate', 'city','latitude', 'longitude', 'success', 'attacktype1_txt', 'targtype1_txt', 'gname', 'weaptype1_txt', 'nkill', 'ransom']]"
      ],
      "metadata": {
        "id": "RMZza4srD-aB"
      },
      "execution_count": null,
      "outputs": []
    },
    {
      "cell_type": "code",
      "source": [
        "# Checking our new updated dataframe\n",
        "\n",
        "terrorism_data_new.head(2)"
      ],
      "metadata": {
        "id": "sGYZg47CFPZn",
        "colab": {
          "base_uri": "https://localhost:8080/",
          "height": 263
        },
        "outputId": "305c2d1c-a6dd-472e-f643-f88e4a12956f"
      },
      "execution_count": null,
      "outputs": [
        {
          "output_type": "execute_result",
          "data": {
            "text/plain": [
              "   iyear  imonth  iday         country_txt                   region_txt  \\\n",
              "0   1970       7     2  Dominican Republic  Central America & Caribbean   \n",
              "1   1970       0     0              Mexico                North America   \n",
              "\n",
              "  provstate           city   latitude  longitude  success  \\\n",
              "0       NaN  Santo Domingo  18.456792 -69.951164        1   \n",
              "1   Federal    Mexico city  19.371887 -99.086624        1   \n",
              "\n",
              "               attacktype1_txt                targtype1_txt  \\\n",
              "0                Assassination  Private Citizens & Property   \n",
              "1  Hostage Taking (Kidnapping)      Government (Diplomatic)   \n",
              "\n",
              "                                gname weaptype1_txt  nkill  ransom  \n",
              "0                              MANO-D       Unknown    1.0     0.0  \n",
              "1  23rd of September Communist League       Unknown    0.0     1.0  "
            ],
            "text/html": [
              "\n",
              "  <div id=\"df-627dc9b0-1bfe-4219-9edf-cfa878c8ba3c\">\n",
              "    <div class=\"colab-df-container\">\n",
              "      <div>\n",
              "<style scoped>\n",
              "    .dataframe tbody tr th:only-of-type {\n",
              "        vertical-align: middle;\n",
              "    }\n",
              "\n",
              "    .dataframe tbody tr th {\n",
              "        vertical-align: top;\n",
              "    }\n",
              "\n",
              "    .dataframe thead th {\n",
              "        text-align: right;\n",
              "    }\n",
              "</style>\n",
              "<table border=\"1\" class=\"dataframe\">\n",
              "  <thead>\n",
              "    <tr style=\"text-align: right;\">\n",
              "      <th></th>\n",
              "      <th>iyear</th>\n",
              "      <th>imonth</th>\n",
              "      <th>iday</th>\n",
              "      <th>country_txt</th>\n",
              "      <th>region_txt</th>\n",
              "      <th>provstate</th>\n",
              "      <th>city</th>\n",
              "      <th>latitude</th>\n",
              "      <th>longitude</th>\n",
              "      <th>success</th>\n",
              "      <th>attacktype1_txt</th>\n",
              "      <th>targtype1_txt</th>\n",
              "      <th>gname</th>\n",
              "      <th>weaptype1_txt</th>\n",
              "      <th>nkill</th>\n",
              "      <th>ransom</th>\n",
              "    </tr>\n",
              "  </thead>\n",
              "  <tbody>\n",
              "    <tr>\n",
              "      <th>0</th>\n",
              "      <td>1970</td>\n",
              "      <td>7</td>\n",
              "      <td>2</td>\n",
              "      <td>Dominican Republic</td>\n",
              "      <td>Central America &amp; Caribbean</td>\n",
              "      <td>NaN</td>\n",
              "      <td>Santo Domingo</td>\n",
              "      <td>18.456792</td>\n",
              "      <td>-69.951164</td>\n",
              "      <td>1</td>\n",
              "      <td>Assassination</td>\n",
              "      <td>Private Citizens &amp; Property</td>\n",
              "      <td>MANO-D</td>\n",
              "      <td>Unknown</td>\n",
              "      <td>1.0</td>\n",
              "      <td>0.0</td>\n",
              "    </tr>\n",
              "    <tr>\n",
              "      <th>1</th>\n",
              "      <td>1970</td>\n",
              "      <td>0</td>\n",
              "      <td>0</td>\n",
              "      <td>Mexico</td>\n",
              "      <td>North America</td>\n",
              "      <td>Federal</td>\n",
              "      <td>Mexico city</td>\n",
              "      <td>19.371887</td>\n",
              "      <td>-99.086624</td>\n",
              "      <td>1</td>\n",
              "      <td>Hostage Taking (Kidnapping)</td>\n",
              "      <td>Government (Diplomatic)</td>\n",
              "      <td>23rd of September Communist League</td>\n",
              "      <td>Unknown</td>\n",
              "      <td>0.0</td>\n",
              "      <td>1.0</td>\n",
              "    </tr>\n",
              "  </tbody>\n",
              "</table>\n",
              "</div>\n",
              "      <button class=\"colab-df-convert\" onclick=\"convertToInteractive('df-627dc9b0-1bfe-4219-9edf-cfa878c8ba3c')\"\n",
              "              title=\"Convert this dataframe to an interactive table.\"\n",
              "              style=\"display:none;\">\n",
              "        \n",
              "  <svg xmlns=\"http://www.w3.org/2000/svg\" height=\"24px\"viewBox=\"0 0 24 24\"\n",
              "       width=\"24px\">\n",
              "    <path d=\"M0 0h24v24H0V0z\" fill=\"none\"/>\n",
              "    <path d=\"M18.56 5.44l.94 2.06.94-2.06 2.06-.94-2.06-.94-.94-2.06-.94 2.06-2.06.94zm-11 1L8.5 8.5l.94-2.06 2.06-.94-2.06-.94L8.5 2.5l-.94 2.06-2.06.94zm10 10l.94 2.06.94-2.06 2.06-.94-2.06-.94-.94-2.06-.94 2.06-2.06.94z\"/><path d=\"M17.41 7.96l-1.37-1.37c-.4-.4-.92-.59-1.43-.59-.52 0-1.04.2-1.43.59L10.3 9.45l-7.72 7.72c-.78.78-.78 2.05 0 2.83L4 21.41c.39.39.9.59 1.41.59.51 0 1.02-.2 1.41-.59l7.78-7.78 2.81-2.81c.8-.78.8-2.07 0-2.86zM5.41 20L4 18.59l7.72-7.72 1.47 1.35L5.41 20z\"/>\n",
              "  </svg>\n",
              "      </button>\n",
              "      \n",
              "  <style>\n",
              "    .colab-df-container {\n",
              "      display:flex;\n",
              "      flex-wrap:wrap;\n",
              "      gap: 12px;\n",
              "    }\n",
              "\n",
              "    .colab-df-convert {\n",
              "      background-color: #E8F0FE;\n",
              "      border: none;\n",
              "      border-radius: 50%;\n",
              "      cursor: pointer;\n",
              "      display: none;\n",
              "      fill: #1967D2;\n",
              "      height: 32px;\n",
              "      padding: 0 0 0 0;\n",
              "      width: 32px;\n",
              "    }\n",
              "\n",
              "    .colab-df-convert:hover {\n",
              "      background-color: #E2EBFA;\n",
              "      box-shadow: 0px 1px 2px rgba(60, 64, 67, 0.3), 0px 1px 3px 1px rgba(60, 64, 67, 0.15);\n",
              "      fill: #174EA6;\n",
              "    }\n",
              "\n",
              "    [theme=dark] .colab-df-convert {\n",
              "      background-color: #3B4455;\n",
              "      fill: #D2E3FC;\n",
              "    }\n",
              "\n",
              "    [theme=dark] .colab-df-convert:hover {\n",
              "      background-color: #434B5C;\n",
              "      box-shadow: 0px 1px 3px 1px rgba(0, 0, 0, 0.15);\n",
              "      filter: drop-shadow(0px 1px 2px rgba(0, 0, 0, 0.3));\n",
              "      fill: #FFFFFF;\n",
              "    }\n",
              "  </style>\n",
              "\n",
              "      <script>\n",
              "        const buttonEl =\n",
              "          document.querySelector('#df-627dc9b0-1bfe-4219-9edf-cfa878c8ba3c button.colab-df-convert');\n",
              "        buttonEl.style.display =\n",
              "          google.colab.kernel.accessAllowed ? 'block' : 'none';\n",
              "\n",
              "        async function convertToInteractive(key) {\n",
              "          const element = document.querySelector('#df-627dc9b0-1bfe-4219-9edf-cfa878c8ba3c');\n",
              "          const dataTable =\n",
              "            await google.colab.kernel.invokeFunction('convertToInteractive',\n",
              "                                                     [key], {});\n",
              "          if (!dataTable) return;\n",
              "\n",
              "          const docLinkHtml = 'Like what you see? Visit the ' +\n",
              "            '<a target=\"_blank\" href=https://colab.research.google.com/notebooks/data_table.ipynb>data table notebook</a>'\n",
              "            + ' to learn more about interactive tables.';\n",
              "          element.innerHTML = '';\n",
              "          dataTable['output_type'] = 'display_data';\n",
              "          await google.colab.output.renderOutput(dataTable, element);\n",
              "          const docLink = document.createElement('div');\n",
              "          docLink.innerHTML = docLinkHtml;\n",
              "          element.appendChild(docLink);\n",
              "        }\n",
              "      </script>\n",
              "    </div>\n",
              "  </div>\n",
              "  "
            ]
          },
          "metadata": {},
          "execution_count": 11
        }
      ]
    },
    {
      "cell_type": "code",
      "source": [
        "# Now checking the shape of the new dataframe\n",
        "\n",
        "terrorism_data_new.shape"
      ],
      "metadata": {
        "id": "ywxOyP0zzyo8",
        "colab": {
          "base_uri": "https://localhost:8080/"
        },
        "outputId": "2d1e4040-f23a-4e4e-9e61-db517e843f86"
      },
      "execution_count": null,
      "outputs": [
        {
          "output_type": "execute_result",
          "data": {
            "text/plain": [
              "(181691, 16)"
            ]
          },
          "metadata": {},
          "execution_count": 12
        }
      ]
    },
    {
      "cell_type": "code",
      "source": [
        "# Now we will rename our columns in the new dataframe\n",
        "\n",
        "terrorism_data_new = terrorism_data_new.rename(columns= {'iyear' : 'year','imonth' : 'month', 'iday' : 'day', 'country_txt' : 'country', 'region_txt' : 'region', 'provstate' : 'state', 'attacktype1_txt' : 'attack_type', 'targtype1_txt' : 'target_type', 'gname' : 'gang_name', 'weaptype1_txt' : 'weapon_type', 'nkill' : 'no_of_kills'  })"
      ],
      "metadata": {
        "id": "JIe5m07QFXDr"
      },
      "execution_count": null,
      "outputs": []
    },
    {
      "cell_type": "code",
      "source": [
        "# Checking that the columns are renamed\n",
        "\n",
        "terrorism_data_new.head(2)"
      ],
      "metadata": {
        "id": "HMIqfGrTXqcZ",
        "colab": {
          "base_uri": "https://localhost:8080/",
          "height": 243
        },
        "outputId": "a257a913-5146-4906-aa34-b07f2b08c779"
      },
      "execution_count": null,
      "outputs": [
        {
          "output_type": "execute_result",
          "data": {
            "text/plain": [
              "   year  month  day             country                       region    state  \\\n",
              "0  1970      7    2  Dominican Republic  Central America & Caribbean      NaN   \n",
              "1  1970      0    0              Mexico                North America  Federal   \n",
              "\n",
              "            city   latitude  longitude  success                  attack_type  \\\n",
              "0  Santo Domingo  18.456792 -69.951164        1                Assassination   \n",
              "1    Mexico city  19.371887 -99.086624        1  Hostage Taking (Kidnapping)   \n",
              "\n",
              "                   target_type                           gang_name  \\\n",
              "0  Private Citizens & Property                              MANO-D   \n",
              "1      Government (Diplomatic)  23rd of September Communist League   \n",
              "\n",
              "  weapon_type  no_of_kills  ransom  \n",
              "0     Unknown          1.0     0.0  \n",
              "1     Unknown          0.0     1.0  "
            ],
            "text/html": [
              "\n",
              "  <div id=\"df-90e69a01-e508-4240-a730-64c0063f3aa2\">\n",
              "    <div class=\"colab-df-container\">\n",
              "      <div>\n",
              "<style scoped>\n",
              "    .dataframe tbody tr th:only-of-type {\n",
              "        vertical-align: middle;\n",
              "    }\n",
              "\n",
              "    .dataframe tbody tr th {\n",
              "        vertical-align: top;\n",
              "    }\n",
              "\n",
              "    .dataframe thead th {\n",
              "        text-align: right;\n",
              "    }\n",
              "</style>\n",
              "<table border=\"1\" class=\"dataframe\">\n",
              "  <thead>\n",
              "    <tr style=\"text-align: right;\">\n",
              "      <th></th>\n",
              "      <th>year</th>\n",
              "      <th>month</th>\n",
              "      <th>day</th>\n",
              "      <th>country</th>\n",
              "      <th>region</th>\n",
              "      <th>state</th>\n",
              "      <th>city</th>\n",
              "      <th>latitude</th>\n",
              "      <th>longitude</th>\n",
              "      <th>success</th>\n",
              "      <th>attack_type</th>\n",
              "      <th>target_type</th>\n",
              "      <th>gang_name</th>\n",
              "      <th>weapon_type</th>\n",
              "      <th>no_of_kills</th>\n",
              "      <th>ransom</th>\n",
              "    </tr>\n",
              "  </thead>\n",
              "  <tbody>\n",
              "    <tr>\n",
              "      <th>0</th>\n",
              "      <td>1970</td>\n",
              "      <td>7</td>\n",
              "      <td>2</td>\n",
              "      <td>Dominican Republic</td>\n",
              "      <td>Central America &amp; Caribbean</td>\n",
              "      <td>NaN</td>\n",
              "      <td>Santo Domingo</td>\n",
              "      <td>18.456792</td>\n",
              "      <td>-69.951164</td>\n",
              "      <td>1</td>\n",
              "      <td>Assassination</td>\n",
              "      <td>Private Citizens &amp; Property</td>\n",
              "      <td>MANO-D</td>\n",
              "      <td>Unknown</td>\n",
              "      <td>1.0</td>\n",
              "      <td>0.0</td>\n",
              "    </tr>\n",
              "    <tr>\n",
              "      <th>1</th>\n",
              "      <td>1970</td>\n",
              "      <td>0</td>\n",
              "      <td>0</td>\n",
              "      <td>Mexico</td>\n",
              "      <td>North America</td>\n",
              "      <td>Federal</td>\n",
              "      <td>Mexico city</td>\n",
              "      <td>19.371887</td>\n",
              "      <td>-99.086624</td>\n",
              "      <td>1</td>\n",
              "      <td>Hostage Taking (Kidnapping)</td>\n",
              "      <td>Government (Diplomatic)</td>\n",
              "      <td>23rd of September Communist League</td>\n",
              "      <td>Unknown</td>\n",
              "      <td>0.0</td>\n",
              "      <td>1.0</td>\n",
              "    </tr>\n",
              "  </tbody>\n",
              "</table>\n",
              "</div>\n",
              "      <button class=\"colab-df-convert\" onclick=\"convertToInteractive('df-90e69a01-e508-4240-a730-64c0063f3aa2')\"\n",
              "              title=\"Convert this dataframe to an interactive table.\"\n",
              "              style=\"display:none;\">\n",
              "        \n",
              "  <svg xmlns=\"http://www.w3.org/2000/svg\" height=\"24px\"viewBox=\"0 0 24 24\"\n",
              "       width=\"24px\">\n",
              "    <path d=\"M0 0h24v24H0V0z\" fill=\"none\"/>\n",
              "    <path d=\"M18.56 5.44l.94 2.06.94-2.06 2.06-.94-2.06-.94-.94-2.06-.94 2.06-2.06.94zm-11 1L8.5 8.5l.94-2.06 2.06-.94-2.06-.94L8.5 2.5l-.94 2.06-2.06.94zm10 10l.94 2.06.94-2.06 2.06-.94-2.06-.94-.94-2.06-.94 2.06-2.06.94z\"/><path d=\"M17.41 7.96l-1.37-1.37c-.4-.4-.92-.59-1.43-.59-.52 0-1.04.2-1.43.59L10.3 9.45l-7.72 7.72c-.78.78-.78 2.05 0 2.83L4 21.41c.39.39.9.59 1.41.59.51 0 1.02-.2 1.41-.59l7.78-7.78 2.81-2.81c.8-.78.8-2.07 0-2.86zM5.41 20L4 18.59l7.72-7.72 1.47 1.35L5.41 20z\"/>\n",
              "  </svg>\n",
              "      </button>\n",
              "      \n",
              "  <style>\n",
              "    .colab-df-container {\n",
              "      display:flex;\n",
              "      flex-wrap:wrap;\n",
              "      gap: 12px;\n",
              "    }\n",
              "\n",
              "    .colab-df-convert {\n",
              "      background-color: #E8F0FE;\n",
              "      border: none;\n",
              "      border-radius: 50%;\n",
              "      cursor: pointer;\n",
              "      display: none;\n",
              "      fill: #1967D2;\n",
              "      height: 32px;\n",
              "      padding: 0 0 0 0;\n",
              "      width: 32px;\n",
              "    }\n",
              "\n",
              "    .colab-df-convert:hover {\n",
              "      background-color: #E2EBFA;\n",
              "      box-shadow: 0px 1px 2px rgba(60, 64, 67, 0.3), 0px 1px 3px 1px rgba(60, 64, 67, 0.15);\n",
              "      fill: #174EA6;\n",
              "    }\n",
              "\n",
              "    [theme=dark] .colab-df-convert {\n",
              "      background-color: #3B4455;\n",
              "      fill: #D2E3FC;\n",
              "    }\n",
              "\n",
              "    [theme=dark] .colab-df-convert:hover {\n",
              "      background-color: #434B5C;\n",
              "      box-shadow: 0px 1px 3px 1px rgba(0, 0, 0, 0.15);\n",
              "      filter: drop-shadow(0px 1px 2px rgba(0, 0, 0, 0.3));\n",
              "      fill: #FFFFFF;\n",
              "    }\n",
              "  </style>\n",
              "\n",
              "      <script>\n",
              "        const buttonEl =\n",
              "          document.querySelector('#df-90e69a01-e508-4240-a730-64c0063f3aa2 button.colab-df-convert');\n",
              "        buttonEl.style.display =\n",
              "          google.colab.kernel.accessAllowed ? 'block' : 'none';\n",
              "\n",
              "        async function convertToInteractive(key) {\n",
              "          const element = document.querySelector('#df-90e69a01-e508-4240-a730-64c0063f3aa2');\n",
              "          const dataTable =\n",
              "            await google.colab.kernel.invokeFunction('convertToInteractive',\n",
              "                                                     [key], {});\n",
              "          if (!dataTable) return;\n",
              "\n",
              "          const docLinkHtml = 'Like what you see? Visit the ' +\n",
              "            '<a target=\"_blank\" href=https://colab.research.google.com/notebooks/data_table.ipynb>data table notebook</a>'\n",
              "            + ' to learn more about interactive tables.';\n",
              "          element.innerHTML = '';\n",
              "          dataTable['output_type'] = 'display_data';\n",
              "          await google.colab.output.renderOutput(dataTable, element);\n",
              "          const docLink = document.createElement('div');\n",
              "          docLink.innerHTML = docLinkHtml;\n",
              "          element.appendChild(docLink);\n",
              "        }\n",
              "      </script>\n",
              "    </div>\n",
              "  </div>\n",
              "  "
            ]
          },
          "metadata": {},
          "execution_count": 14
        }
      ]
    },
    {
      "cell_type": "code",
      "source": [
        "# Now we will check the info of the new dataset\n",
        "\n",
        "terrorism_data_new.info()"
      ],
      "metadata": {
        "id": "E3_dUZfLYDzc",
        "colab": {
          "base_uri": "https://localhost:8080/"
        },
        "outputId": "65fe216f-e8d1-4752-90e5-fe00ba26535f"
      },
      "execution_count": null,
      "outputs": [
        {
          "output_type": "stream",
          "name": "stdout",
          "text": [
            "<class 'pandas.core.frame.DataFrame'>\n",
            "RangeIndex: 181691 entries, 0 to 181690\n",
            "Data columns (total 16 columns):\n",
            " #   Column       Non-Null Count   Dtype  \n",
            "---  ------       --------------   -----  \n",
            " 0   year         181691 non-null  int64  \n",
            " 1   month        181691 non-null  int64  \n",
            " 2   day          181691 non-null  int64  \n",
            " 3   country      181691 non-null  object \n",
            " 4   region       181691 non-null  object \n",
            " 5   state        181270 non-null  object \n",
            " 6   city         181257 non-null  object \n",
            " 7   latitude     177135 non-null  float64\n",
            " 8   longitude    177134 non-null  float64\n",
            " 9   success      181691 non-null  int64  \n",
            " 10  attack_type  181691 non-null  object \n",
            " 11  target_type  181691 non-null  object \n",
            " 12  gang_name    181691 non-null  object \n",
            " 13  weapon_type  181691 non-null  object \n",
            " 14  no_of_kills  171378 non-null  float64\n",
            " 15  ransom       77381 non-null   float64\n",
            "dtypes: float64(4), int64(4), object(8)\n",
            "memory usage: 22.2+ MB\n"
          ]
        }
      ]
    },
    {
      "cell_type": "code",
      "source": [
        "# Handeling the Nan values using the fillna method\n",
        " \n",
        "terrorism_data_new['state'] = terrorism_data_new['state'].fillna('unknown')\n",
        "terrorism_data_new['city'] = terrorism_data_new['city'].fillna('unknown')\n",
        "terrorism_data_new['no_of_kills'] = terrorism_data_new['no_of_kills'].fillna(0)\n"
      ],
      "metadata": {
        "id": "38pCdaG4YL1v"
      },
      "execution_count": null,
      "outputs": []
    },
    {
      "cell_type": "code",
      "source": [
        "# checking for the Nan values\n",
        "\n",
        "terrorism_data_new.info()"
      ],
      "metadata": {
        "id": "gWJlBV8KZBth",
        "colab": {
          "base_uri": "https://localhost:8080/"
        },
        "outputId": "a0e7fdd5-6bf2-4335-c4f1-47e68a0115d0"
      },
      "execution_count": null,
      "outputs": [
        {
          "output_type": "stream",
          "name": "stdout",
          "text": [
            "<class 'pandas.core.frame.DataFrame'>\n",
            "RangeIndex: 181691 entries, 0 to 181690\n",
            "Data columns (total 16 columns):\n",
            " #   Column       Non-Null Count   Dtype  \n",
            "---  ------       --------------   -----  \n",
            " 0   year         181691 non-null  int64  \n",
            " 1   month        181691 non-null  int64  \n",
            " 2   day          181691 non-null  int64  \n",
            " 3   country      181691 non-null  object \n",
            " 4   region       181691 non-null  object \n",
            " 5   state        181691 non-null  object \n",
            " 6   city         181691 non-null  object \n",
            " 7   latitude     177135 non-null  float64\n",
            " 8   longitude    177134 non-null  float64\n",
            " 9   success      181691 non-null  int64  \n",
            " 10  attack_type  181691 non-null  object \n",
            " 11  target_type  181691 non-null  object \n",
            " 12  gang_name    181691 non-null  object \n",
            " 13  weapon_type  181691 non-null  object \n",
            " 14  no_of_kills  181691 non-null  float64\n",
            " 15  ransom       77381 non-null   float64\n",
            "dtypes: float64(4), int64(4), object(8)\n",
            "memory usage: 22.2+ MB\n"
          ]
        }
      ]
    },
    {
      "cell_type": "code",
      "source": [
        "# Now we will check the sum of the Nan values present in all of the columns\n",
        "\n",
        "terrorism_data_new.isnull().sum()\n"
      ],
      "metadata": {
        "id": "vkKblloHZOcq",
        "colab": {
          "base_uri": "https://localhost:8080/"
        },
        "outputId": "25cccb9e-717f-4992-b985-4da446b201b6"
      },
      "execution_count": null,
      "outputs": [
        {
          "output_type": "execute_result",
          "data": {
            "text/plain": [
              "year                0\n",
              "month               0\n",
              "day                 0\n",
              "country             0\n",
              "region              0\n",
              "state               0\n",
              "city                0\n",
              "latitude         4556\n",
              "longitude        4557\n",
              "success             0\n",
              "attack_type         0\n",
              "target_type         0\n",
              "gang_name           0\n",
              "weapon_type         0\n",
              "no_of_kills         0\n",
              "ransom         104310\n",
              "dtype: int64"
            ]
          },
          "metadata": {},
          "execution_count": 18
        }
      ]
    },
    {
      "cell_type": "markdown",
      "source": [
        "## <b> 3. Exploratory Data Analysis </b>"
      ],
      "metadata": {
        "id": "fdaCrHVaRV4W"
      }
    },
    {
      "cell_type": "markdown",
      "source": [
        "## <b> 3.1 Visualising the hot zones under attack over the world *******"
      ],
      "metadata": {
        "id": "0nUqAMQDCkdP"
      }
    },
    {
      "cell_type": "code",
      "source": [
        ""
      ],
      "metadata": {
        "id": "Dt_lgL_ZcxVV"
      },
      "execution_count": null,
      "outputs": []
    },
    {
      "cell_type": "code",
      "source": [
        ""
      ],
      "metadata": {
        "id": "8qeEnXh5cxKH"
      },
      "execution_count": null,
      "outputs": []
    },
    {
      "cell_type": "markdown",
      "source": [
        "## <b> 3.2 Total number of attacks in every year by region\n"
      ],
      "metadata": {
        "id": "RtaUX8g0Jmou"
      }
    },
    {
      "cell_type": "code",
      "source": [
        "attacks_per_year = terrorism_data_new.groupby(['year', 'region']).count().unstack()['country']\n",
        "attacks_per_year"
      ],
      "metadata": {
        "id": "EllL7MjkZhcT",
        "colab": {
          "base_uri": "https://localhost:8080/",
          "height": 1000
        },
        "outputId": "df9d8e0a-85df-4caf-ba97-cd0581344959"
      },
      "execution_count": null,
      "outputs": [
        {
          "output_type": "execute_result",
          "data": {
            "text/plain": [
              "region  Australasia & Oceania  Central America & Caribbean  Central Asia  \\\n",
              "year                                                                       \n",
              "1970                      1.0                          7.0           NaN   \n",
              "1971                      1.0                          5.0           NaN   \n",
              "1972                      8.0                          3.0           NaN   \n",
              "1973                      1.0                          6.0           NaN   \n",
              "1974                      1.0                         11.0           NaN   \n",
              "1975                      NaN                          9.0           NaN   \n",
              "1976                      NaN                         45.0           NaN   \n",
              "1977                      NaN                         24.0           NaN   \n",
              "1978                      2.0                        199.0           NaN   \n",
              "1979                      2.0                        609.0           NaN   \n",
              "1980                      7.0                       1070.0           NaN   \n",
              "1981                      3.0                       1148.0           NaN   \n",
              "1982                      2.0                        996.0           NaN   \n",
              "1983                      NaN                        858.0           NaN   \n",
              "1984                     11.0                        681.0           NaN   \n",
              "1985                      7.0                        780.0           NaN   \n",
              "1986                      4.0                        393.0           NaN   \n",
              "1987                      3.0                        566.0           NaN   \n",
              "1988                     12.0                        495.0           NaN   \n",
              "1989                     29.0                        503.0           NaN   \n",
              "1990                     18.0                        316.0           NaN   \n",
              "1991                     10.0                        729.0           7.0   \n",
              "1992                     17.0                        212.0          77.0   \n",
              "1994                     14.0                        180.0          65.0   \n",
              "1995                     18.0                        168.0          55.0   \n",
              "1996                     19.0                        116.0          33.0   \n",
              "1997                      7.0                        117.0          49.0   \n",
              "1998                      6.0                          1.0          25.0   \n",
              "1999                      4.0                          8.0          24.0   \n",
              "2000                      6.0                         14.0          21.0   \n",
              "2001                      4.0                          8.0          18.0   \n",
              "2002                      2.0                          3.0           6.0   \n",
              "2003                      4.0                          8.0           7.0   \n",
              "2004                      NaN                          5.0           8.0   \n",
              "2005                      NaN                          3.0          11.0   \n",
              "2006                      2.0                          5.0           6.0   \n",
              "2007                      1.0                          4.0           4.0   \n",
              "2008                      8.0                          NaN          36.0   \n",
              "2009                      1.0                          9.0          31.0   \n",
              "2010                      1.0                          1.0           9.0   \n",
              "2011                      NaN                          1.0           9.0   \n",
              "2012                      NaN                          1.0          12.0   \n",
              "2013                      1.0                         14.0           7.0   \n",
              "2014                      9.0                          5.0           9.0   \n",
              "2015                     14.0                          1.0          10.0   \n",
              "2016                     10.0                          3.0          17.0   \n",
              "2017                     12.0                          4.0           7.0   \n",
              "\n",
              "region  East Asia  Eastern Europe  Middle East & North Africa  North America  \\\n",
              "year                                                                           \n",
              "1970          2.0            12.0                        28.0          472.0   \n",
              "1971          1.0             5.0                        55.0          247.0   \n",
              "1972          NaN             1.0                        53.0           73.0   \n",
              "1973          2.0             1.0                        19.0           64.0   \n",
              "1974          4.0             2.0                        42.0          111.0   \n",
              "1975         12.0             NaN                        44.0          159.0   \n",
              "1976          2.0             NaN                        55.0          125.0   \n",
              "1977          4.0             2.0                       211.0          149.0   \n",
              "1978         35.0             2.0                       128.0          117.0   \n",
              "1979         16.0             1.0                       455.0           79.0   \n",
              "1980          1.0             1.0                       437.0           75.0   \n",
              "1981          4.0             4.0                       312.0           77.0   \n",
              "1982          3.0             3.0                       290.0           86.0   \n",
              "1983         13.0             2.0                       334.0           47.0   \n",
              "1984         15.0             4.0                       268.0           67.0   \n",
              "1985         10.0             5.0                       133.0           44.0   \n",
              "1986         12.0             3.0                       196.0           53.0   \n",
              "1987         10.0             1.0                       202.0           35.0   \n",
              "1988         24.0             4.0                       246.0           30.0   \n",
              "1989         18.0            16.0                       465.0           44.0   \n",
              "1990         99.0            58.0                       494.0           37.0   \n",
              "1991         29.0            84.0                       612.0           40.0   \n",
              "1992         74.0            91.0                      1192.0           41.0   \n",
              "1994         34.0            95.0                      1051.0          101.0   \n",
              "1995         38.0            68.0                       590.0           94.0   \n",
              "1996         89.0           175.0                       373.0          111.0   \n",
              "1997         40.0           248.0                       548.0          137.0   \n",
              "1998          9.0           105.0                       247.0           37.0   \n",
              "1999          4.0           138.0                       316.0           56.0   \n",
              "2000         19.0           234.0                       272.0           41.0   \n",
              "2001         19.0           252.0                       362.0           48.0   \n",
              "2002          4.0           112.0                       326.0           33.0   \n",
              "2003          6.0           100.0                       310.0           34.0   \n",
              "2004          4.0            46.0                       492.0           12.0   \n",
              "2005          2.0            76.0                       882.0           22.0   \n",
              "2006          1.0            70.0                      1187.0           15.0   \n",
              "2007          NaN            62.0                      1385.0           18.0   \n",
              "2008         25.0           209.0                      1536.0           31.0   \n",
              "2009          8.0           165.0                      1361.0           16.0   \n",
              "2010          1.0           261.0                      1463.0           24.0   \n",
              "2011          4.0           198.0                      1663.0           12.0   \n",
              "2012          4.0           173.0                      2409.0           39.0   \n",
              "2013         15.0           165.0                      4560.0           32.0   \n",
              "2014         43.0           962.0                      6939.0           37.0   \n",
              "2015         28.0           684.0                      6036.0           62.0   \n",
              "2016          8.0           134.0                      6115.0           75.0   \n",
              "2017          7.0           110.0                      3780.0           97.0   \n",
              "\n",
              "region  South America  South Asia  Southeast Asia  Sub-Saharan Africa  \\\n",
              "year                                                                    \n",
              "1970             65.0         1.0            10.0                 3.0   \n",
              "1971             24.0         NaN             6.0                 2.0   \n",
              "1972             33.0         1.0            16.0                 4.0   \n",
              "1973             83.0         1.0             2.0                 4.0   \n",
              "1974             81.0         2.0             3.0                 7.0   \n",
              "1975             55.0         4.0             7.0                12.0   \n",
              "1976             91.0         4.0            12.0                11.0   \n",
              "1977            119.0         2.0             8.0                29.0   \n",
              "1978            222.0         2.0            44.0                46.0   \n",
              "1979            236.0        34.0            86.0               124.0   \n",
              "1980            319.0        12.0            87.0                58.0   \n",
              "1981            383.0        23.0            50.0                98.0   \n",
              "1982            639.0        20.0            43.0                60.0   \n",
              "1983            950.0        63.0            22.0               106.0   \n",
              "1984           1492.0       244.0            46.0               126.0   \n",
              "1985           1040.0       161.0           128.0               141.0   \n",
              "1986           1184.0       273.0           102.0               185.0   \n",
              "1987           1265.0       348.0           163.0               174.0   \n",
              "1988           1041.0       801.0           242.0               337.0   \n",
              "1989           1385.0       926.0           203.0               291.0   \n",
              "1990           1076.0       601.0           348.0               450.0   \n",
              "1991           1322.0       677.0           206.0               271.0   \n",
              "1992           1204.0       545.0           279.0               570.0   \n",
              "1994            373.0       376.0           151.0               432.0   \n",
              "1995            255.0      1051.0           168.0               239.0   \n",
              "1996            517.0       739.0           193.0               217.0   \n",
              "1997            774.0       490.0           159.0               279.0   \n",
              "1998            108.0       136.0            32.0                87.0   \n",
              "1999            134.0       225.0           107.0               143.0   \n",
              "2000            150.0       357.0           256.0               191.0   \n",
              "2001            229.0       385.0           185.0               162.0   \n",
              "2002            162.0       334.0           110.0               121.0   \n",
              "2003            117.0       353.0           145.0                73.0   \n",
              "2004             42.0       369.0            95.0                34.0   \n",
              "2005             49.0       604.0           204.0                60.0   \n",
              "2006             50.0       938.0           272.0               114.0   \n",
              "2007             47.0       982.0           365.0               302.0   \n",
              "2008            144.0      1759.0           514.0               380.0   \n",
              "2009            159.0      1945.0           561.0               283.0   \n",
              "2010            148.0      1981.0           473.0               331.0   \n",
              "2011            106.0      2138.0           356.0               494.0   \n",
              "2012            133.0      3803.0           587.0              1168.0   \n",
              "2013            182.0      4612.0          1188.0               999.0   \n",
              "2014            283.0      4998.0          1082.0              2321.0   \n",
              "2015            176.0      4585.0          1072.0              1964.0   \n",
              "2016            159.0      3639.0          1077.0              2077.0   \n",
              "2017            172.0      3430.0          1020.0              1970.0   \n",
              "\n",
              "region  Western Europe  \n",
              "year                    \n",
              "1970              50.0  \n",
              "1971             125.0  \n",
              "1972             376.0  \n",
              "1973             290.0  \n",
              "1974             317.0  \n",
              "1975             438.0  \n",
              "1976             578.0  \n",
              "1977             771.0  \n",
              "1978             729.0  \n",
              "1979            1020.0  \n",
              "1980             595.0  \n",
              "1981             484.0  \n",
              "1982             402.0  \n",
              "1983             475.0  \n",
              "1984             541.0  \n",
              "1985             466.0  \n",
              "1986             455.0  \n",
              "1987             416.0  \n",
              "1988             489.0  \n",
              "1989             444.0  \n",
              "1990             390.0  \n",
              "1991             696.0  \n",
              "1992             769.0  \n",
              "1994             584.0  \n",
              "1995             337.0  \n",
              "1996             476.0  \n",
              "1997             349.0  \n",
              "1998             141.0  \n",
              "1999             236.0  \n",
              "2000             253.0  \n",
              "2001             234.0  \n",
              "2002             120.0  \n",
              "2003             121.0  \n",
              "2004              59.0  \n",
              "2005             104.0  \n",
              "2006              98.0  \n",
              "2007              72.0  \n",
              "2008             163.0  \n",
              "2009             182.0  \n",
              "2010             133.0  \n",
              "2011              95.0  \n",
              "2012             193.0  \n",
              "2013             261.0  \n",
              "2014             215.0  \n",
              "2015             333.0  \n",
              "2016             273.0  \n",
              "2017             291.0  "
            ],
            "text/html": [
              "\n",
              "  <div id=\"df-5dfdb3e8-3734-47ba-8886-506a20b9d562\">\n",
              "    <div class=\"colab-df-container\">\n",
              "      <div>\n",
              "<style scoped>\n",
              "    .dataframe tbody tr th:only-of-type {\n",
              "        vertical-align: middle;\n",
              "    }\n",
              "\n",
              "    .dataframe tbody tr th {\n",
              "        vertical-align: top;\n",
              "    }\n",
              "\n",
              "    .dataframe thead th {\n",
              "        text-align: right;\n",
              "    }\n",
              "</style>\n",
              "<table border=\"1\" class=\"dataframe\">\n",
              "  <thead>\n",
              "    <tr style=\"text-align: right;\">\n",
              "      <th>region</th>\n",
              "      <th>Australasia &amp; Oceania</th>\n",
              "      <th>Central America &amp; Caribbean</th>\n",
              "      <th>Central Asia</th>\n",
              "      <th>East Asia</th>\n",
              "      <th>Eastern Europe</th>\n",
              "      <th>Middle East &amp; North Africa</th>\n",
              "      <th>North America</th>\n",
              "      <th>South America</th>\n",
              "      <th>South Asia</th>\n",
              "      <th>Southeast Asia</th>\n",
              "      <th>Sub-Saharan Africa</th>\n",
              "      <th>Western Europe</th>\n",
              "    </tr>\n",
              "    <tr>\n",
              "      <th>year</th>\n",
              "      <th></th>\n",
              "      <th></th>\n",
              "      <th></th>\n",
              "      <th></th>\n",
              "      <th></th>\n",
              "      <th></th>\n",
              "      <th></th>\n",
              "      <th></th>\n",
              "      <th></th>\n",
              "      <th></th>\n",
              "      <th></th>\n",
              "      <th></th>\n",
              "    </tr>\n",
              "  </thead>\n",
              "  <tbody>\n",
              "    <tr>\n",
              "      <th>1970</th>\n",
              "      <td>1.0</td>\n",
              "      <td>7.0</td>\n",
              "      <td>NaN</td>\n",
              "      <td>2.0</td>\n",
              "      <td>12.0</td>\n",
              "      <td>28.0</td>\n",
              "      <td>472.0</td>\n",
              "      <td>65.0</td>\n",
              "      <td>1.0</td>\n",
              "      <td>10.0</td>\n",
              "      <td>3.0</td>\n",
              "      <td>50.0</td>\n",
              "    </tr>\n",
              "    <tr>\n",
              "      <th>1971</th>\n",
              "      <td>1.0</td>\n",
              "      <td>5.0</td>\n",
              "      <td>NaN</td>\n",
              "      <td>1.0</td>\n",
              "      <td>5.0</td>\n",
              "      <td>55.0</td>\n",
              "      <td>247.0</td>\n",
              "      <td>24.0</td>\n",
              "      <td>NaN</td>\n",
              "      <td>6.0</td>\n",
              "      <td>2.0</td>\n",
              "      <td>125.0</td>\n",
              "    </tr>\n",
              "    <tr>\n",
              "      <th>1972</th>\n",
              "      <td>8.0</td>\n",
              "      <td>3.0</td>\n",
              "      <td>NaN</td>\n",
              "      <td>NaN</td>\n",
              "      <td>1.0</td>\n",
              "      <td>53.0</td>\n",
              "      <td>73.0</td>\n",
              "      <td>33.0</td>\n",
              "      <td>1.0</td>\n",
              "      <td>16.0</td>\n",
              "      <td>4.0</td>\n",
              "      <td>376.0</td>\n",
              "    </tr>\n",
              "    <tr>\n",
              "      <th>1973</th>\n",
              "      <td>1.0</td>\n",
              "      <td>6.0</td>\n",
              "      <td>NaN</td>\n",
              "      <td>2.0</td>\n",
              "      <td>1.0</td>\n",
              "      <td>19.0</td>\n",
              "      <td>64.0</td>\n",
              "      <td>83.0</td>\n",
              "      <td>1.0</td>\n",
              "      <td>2.0</td>\n",
              "      <td>4.0</td>\n",
              "      <td>290.0</td>\n",
              "    </tr>\n",
              "    <tr>\n",
              "      <th>1974</th>\n",
              "      <td>1.0</td>\n",
              "      <td>11.0</td>\n",
              "      <td>NaN</td>\n",
              "      <td>4.0</td>\n",
              "      <td>2.0</td>\n",
              "      <td>42.0</td>\n",
              "      <td>111.0</td>\n",
              "      <td>81.0</td>\n",
              "      <td>2.0</td>\n",
              "      <td>3.0</td>\n",
              "      <td>7.0</td>\n",
              "      <td>317.0</td>\n",
              "    </tr>\n",
              "    <tr>\n",
              "      <th>1975</th>\n",
              "      <td>NaN</td>\n",
              "      <td>9.0</td>\n",
              "      <td>NaN</td>\n",
              "      <td>12.0</td>\n",
              "      <td>NaN</td>\n",
              "      <td>44.0</td>\n",
              "      <td>159.0</td>\n",
              "      <td>55.0</td>\n",
              "      <td>4.0</td>\n",
              "      <td>7.0</td>\n",
              "      <td>12.0</td>\n",
              "      <td>438.0</td>\n",
              "    </tr>\n",
              "    <tr>\n",
              "      <th>1976</th>\n",
              "      <td>NaN</td>\n",
              "      <td>45.0</td>\n",
              "      <td>NaN</td>\n",
              "      <td>2.0</td>\n",
              "      <td>NaN</td>\n",
              "      <td>55.0</td>\n",
              "      <td>125.0</td>\n",
              "      <td>91.0</td>\n",
              "      <td>4.0</td>\n",
              "      <td>12.0</td>\n",
              "      <td>11.0</td>\n",
              "      <td>578.0</td>\n",
              "    </tr>\n",
              "    <tr>\n",
              "      <th>1977</th>\n",
              "      <td>NaN</td>\n",
              "      <td>24.0</td>\n",
              "      <td>NaN</td>\n",
              "      <td>4.0</td>\n",
              "      <td>2.0</td>\n",
              "      <td>211.0</td>\n",
              "      <td>149.0</td>\n",
              "      <td>119.0</td>\n",
              "      <td>2.0</td>\n",
              "      <td>8.0</td>\n",
              "      <td>29.0</td>\n",
              "      <td>771.0</td>\n",
              "    </tr>\n",
              "    <tr>\n",
              "      <th>1978</th>\n",
              "      <td>2.0</td>\n",
              "      <td>199.0</td>\n",
              "      <td>NaN</td>\n",
              "      <td>35.0</td>\n",
              "      <td>2.0</td>\n",
              "      <td>128.0</td>\n",
              "      <td>117.0</td>\n",
              "      <td>222.0</td>\n",
              "      <td>2.0</td>\n",
              "      <td>44.0</td>\n",
              "      <td>46.0</td>\n",
              "      <td>729.0</td>\n",
              "    </tr>\n",
              "    <tr>\n",
              "      <th>1979</th>\n",
              "      <td>2.0</td>\n",
              "      <td>609.0</td>\n",
              "      <td>NaN</td>\n",
              "      <td>16.0</td>\n",
              "      <td>1.0</td>\n",
              "      <td>455.0</td>\n",
              "      <td>79.0</td>\n",
              "      <td>236.0</td>\n",
              "      <td>34.0</td>\n",
              "      <td>86.0</td>\n",
              "      <td>124.0</td>\n",
              "      <td>1020.0</td>\n",
              "    </tr>\n",
              "    <tr>\n",
              "      <th>1980</th>\n",
              "      <td>7.0</td>\n",
              "      <td>1070.0</td>\n",
              "      <td>NaN</td>\n",
              "      <td>1.0</td>\n",
              "      <td>1.0</td>\n",
              "      <td>437.0</td>\n",
              "      <td>75.0</td>\n",
              "      <td>319.0</td>\n",
              "      <td>12.0</td>\n",
              "      <td>87.0</td>\n",
              "      <td>58.0</td>\n",
              "      <td>595.0</td>\n",
              "    </tr>\n",
              "    <tr>\n",
              "      <th>1981</th>\n",
              "      <td>3.0</td>\n",
              "      <td>1148.0</td>\n",
              "      <td>NaN</td>\n",
              "      <td>4.0</td>\n",
              "      <td>4.0</td>\n",
              "      <td>312.0</td>\n",
              "      <td>77.0</td>\n",
              "      <td>383.0</td>\n",
              "      <td>23.0</td>\n",
              "      <td>50.0</td>\n",
              "      <td>98.0</td>\n",
              "      <td>484.0</td>\n",
              "    </tr>\n",
              "    <tr>\n",
              "      <th>1982</th>\n",
              "      <td>2.0</td>\n",
              "      <td>996.0</td>\n",
              "      <td>NaN</td>\n",
              "      <td>3.0</td>\n",
              "      <td>3.0</td>\n",
              "      <td>290.0</td>\n",
              "      <td>86.0</td>\n",
              "      <td>639.0</td>\n",
              "      <td>20.0</td>\n",
              "      <td>43.0</td>\n",
              "      <td>60.0</td>\n",
              "      <td>402.0</td>\n",
              "    </tr>\n",
              "    <tr>\n",
              "      <th>1983</th>\n",
              "      <td>NaN</td>\n",
              "      <td>858.0</td>\n",
              "      <td>NaN</td>\n",
              "      <td>13.0</td>\n",
              "      <td>2.0</td>\n",
              "      <td>334.0</td>\n",
              "      <td>47.0</td>\n",
              "      <td>950.0</td>\n",
              "      <td>63.0</td>\n",
              "      <td>22.0</td>\n",
              "      <td>106.0</td>\n",
              "      <td>475.0</td>\n",
              "    </tr>\n",
              "    <tr>\n",
              "      <th>1984</th>\n",
              "      <td>11.0</td>\n",
              "      <td>681.0</td>\n",
              "      <td>NaN</td>\n",
              "      <td>15.0</td>\n",
              "      <td>4.0</td>\n",
              "      <td>268.0</td>\n",
              "      <td>67.0</td>\n",
              "      <td>1492.0</td>\n",
              "      <td>244.0</td>\n",
              "      <td>46.0</td>\n",
              "      <td>126.0</td>\n",
              "      <td>541.0</td>\n",
              "    </tr>\n",
              "    <tr>\n",
              "      <th>1985</th>\n",
              "      <td>7.0</td>\n",
              "      <td>780.0</td>\n",
              "      <td>NaN</td>\n",
              "      <td>10.0</td>\n",
              "      <td>5.0</td>\n",
              "      <td>133.0</td>\n",
              "      <td>44.0</td>\n",
              "      <td>1040.0</td>\n",
              "      <td>161.0</td>\n",
              "      <td>128.0</td>\n",
              "      <td>141.0</td>\n",
              "      <td>466.0</td>\n",
              "    </tr>\n",
              "    <tr>\n",
              "      <th>1986</th>\n",
              "      <td>4.0</td>\n",
              "      <td>393.0</td>\n",
              "      <td>NaN</td>\n",
              "      <td>12.0</td>\n",
              "      <td>3.0</td>\n",
              "      <td>196.0</td>\n",
              "      <td>53.0</td>\n",
              "      <td>1184.0</td>\n",
              "      <td>273.0</td>\n",
              "      <td>102.0</td>\n",
              "      <td>185.0</td>\n",
              "      <td>455.0</td>\n",
              "    </tr>\n",
              "    <tr>\n",
              "      <th>1987</th>\n",
              "      <td>3.0</td>\n",
              "      <td>566.0</td>\n",
              "      <td>NaN</td>\n",
              "      <td>10.0</td>\n",
              "      <td>1.0</td>\n",
              "      <td>202.0</td>\n",
              "      <td>35.0</td>\n",
              "      <td>1265.0</td>\n",
              "      <td>348.0</td>\n",
              "      <td>163.0</td>\n",
              "      <td>174.0</td>\n",
              "      <td>416.0</td>\n",
              "    </tr>\n",
              "    <tr>\n",
              "      <th>1988</th>\n",
              "      <td>12.0</td>\n",
              "      <td>495.0</td>\n",
              "      <td>NaN</td>\n",
              "      <td>24.0</td>\n",
              "      <td>4.0</td>\n",
              "      <td>246.0</td>\n",
              "      <td>30.0</td>\n",
              "      <td>1041.0</td>\n",
              "      <td>801.0</td>\n",
              "      <td>242.0</td>\n",
              "      <td>337.0</td>\n",
              "      <td>489.0</td>\n",
              "    </tr>\n",
              "    <tr>\n",
              "      <th>1989</th>\n",
              "      <td>29.0</td>\n",
              "      <td>503.0</td>\n",
              "      <td>NaN</td>\n",
              "      <td>18.0</td>\n",
              "      <td>16.0</td>\n",
              "      <td>465.0</td>\n",
              "      <td>44.0</td>\n",
              "      <td>1385.0</td>\n",
              "      <td>926.0</td>\n",
              "      <td>203.0</td>\n",
              "      <td>291.0</td>\n",
              "      <td>444.0</td>\n",
              "    </tr>\n",
              "    <tr>\n",
              "      <th>1990</th>\n",
              "      <td>18.0</td>\n",
              "      <td>316.0</td>\n",
              "      <td>NaN</td>\n",
              "      <td>99.0</td>\n",
              "      <td>58.0</td>\n",
              "      <td>494.0</td>\n",
              "      <td>37.0</td>\n",
              "      <td>1076.0</td>\n",
              "      <td>601.0</td>\n",
              "      <td>348.0</td>\n",
              "      <td>450.0</td>\n",
              "      <td>390.0</td>\n",
              "    </tr>\n",
              "    <tr>\n",
              "      <th>1991</th>\n",
              "      <td>10.0</td>\n",
              "      <td>729.0</td>\n",
              "      <td>7.0</td>\n",
              "      <td>29.0</td>\n",
              "      <td>84.0</td>\n",
              "      <td>612.0</td>\n",
              "      <td>40.0</td>\n",
              "      <td>1322.0</td>\n",
              "      <td>677.0</td>\n",
              "      <td>206.0</td>\n",
              "      <td>271.0</td>\n",
              "      <td>696.0</td>\n",
              "    </tr>\n",
              "    <tr>\n",
              "      <th>1992</th>\n",
              "      <td>17.0</td>\n",
              "      <td>212.0</td>\n",
              "      <td>77.0</td>\n",
              "      <td>74.0</td>\n",
              "      <td>91.0</td>\n",
              "      <td>1192.0</td>\n",
              "      <td>41.0</td>\n",
              "      <td>1204.0</td>\n",
              "      <td>545.0</td>\n",
              "      <td>279.0</td>\n",
              "      <td>570.0</td>\n",
              "      <td>769.0</td>\n",
              "    </tr>\n",
              "    <tr>\n",
              "      <th>1994</th>\n",
              "      <td>14.0</td>\n",
              "      <td>180.0</td>\n",
              "      <td>65.0</td>\n",
              "      <td>34.0</td>\n",
              "      <td>95.0</td>\n",
              "      <td>1051.0</td>\n",
              "      <td>101.0</td>\n",
              "      <td>373.0</td>\n",
              "      <td>376.0</td>\n",
              "      <td>151.0</td>\n",
              "      <td>432.0</td>\n",
              "      <td>584.0</td>\n",
              "    </tr>\n",
              "    <tr>\n",
              "      <th>1995</th>\n",
              "      <td>18.0</td>\n",
              "      <td>168.0</td>\n",
              "      <td>55.0</td>\n",
              "      <td>38.0</td>\n",
              "      <td>68.0</td>\n",
              "      <td>590.0</td>\n",
              "      <td>94.0</td>\n",
              "      <td>255.0</td>\n",
              "      <td>1051.0</td>\n",
              "      <td>168.0</td>\n",
              "      <td>239.0</td>\n",
              "      <td>337.0</td>\n",
              "    </tr>\n",
              "    <tr>\n",
              "      <th>1996</th>\n",
              "      <td>19.0</td>\n",
              "      <td>116.0</td>\n",
              "      <td>33.0</td>\n",
              "      <td>89.0</td>\n",
              "      <td>175.0</td>\n",
              "      <td>373.0</td>\n",
              "      <td>111.0</td>\n",
              "      <td>517.0</td>\n",
              "      <td>739.0</td>\n",
              "      <td>193.0</td>\n",
              "      <td>217.0</td>\n",
              "      <td>476.0</td>\n",
              "    </tr>\n",
              "    <tr>\n",
              "      <th>1997</th>\n",
              "      <td>7.0</td>\n",
              "      <td>117.0</td>\n",
              "      <td>49.0</td>\n",
              "      <td>40.0</td>\n",
              "      <td>248.0</td>\n",
              "      <td>548.0</td>\n",
              "      <td>137.0</td>\n",
              "      <td>774.0</td>\n",
              "      <td>490.0</td>\n",
              "      <td>159.0</td>\n",
              "      <td>279.0</td>\n",
              "      <td>349.0</td>\n",
              "    </tr>\n",
              "    <tr>\n",
              "      <th>1998</th>\n",
              "      <td>6.0</td>\n",
              "      <td>1.0</td>\n",
              "      <td>25.0</td>\n",
              "      <td>9.0</td>\n",
              "      <td>105.0</td>\n",
              "      <td>247.0</td>\n",
              "      <td>37.0</td>\n",
              "      <td>108.0</td>\n",
              "      <td>136.0</td>\n",
              "      <td>32.0</td>\n",
              "      <td>87.0</td>\n",
              "      <td>141.0</td>\n",
              "    </tr>\n",
              "    <tr>\n",
              "      <th>1999</th>\n",
              "      <td>4.0</td>\n",
              "      <td>8.0</td>\n",
              "      <td>24.0</td>\n",
              "      <td>4.0</td>\n",
              "      <td>138.0</td>\n",
              "      <td>316.0</td>\n",
              "      <td>56.0</td>\n",
              "      <td>134.0</td>\n",
              "      <td>225.0</td>\n",
              "      <td>107.0</td>\n",
              "      <td>143.0</td>\n",
              "      <td>236.0</td>\n",
              "    </tr>\n",
              "    <tr>\n",
              "      <th>2000</th>\n",
              "      <td>6.0</td>\n",
              "      <td>14.0</td>\n",
              "      <td>21.0</td>\n",
              "      <td>19.0</td>\n",
              "      <td>234.0</td>\n",
              "      <td>272.0</td>\n",
              "      <td>41.0</td>\n",
              "      <td>150.0</td>\n",
              "      <td>357.0</td>\n",
              "      <td>256.0</td>\n",
              "      <td>191.0</td>\n",
              "      <td>253.0</td>\n",
              "    </tr>\n",
              "    <tr>\n",
              "      <th>2001</th>\n",
              "      <td>4.0</td>\n",
              "      <td>8.0</td>\n",
              "      <td>18.0</td>\n",
              "      <td>19.0</td>\n",
              "      <td>252.0</td>\n",
              "      <td>362.0</td>\n",
              "      <td>48.0</td>\n",
              "      <td>229.0</td>\n",
              "      <td>385.0</td>\n",
              "      <td>185.0</td>\n",
              "      <td>162.0</td>\n",
              "      <td>234.0</td>\n",
              "    </tr>\n",
              "    <tr>\n",
              "      <th>2002</th>\n",
              "      <td>2.0</td>\n",
              "      <td>3.0</td>\n",
              "      <td>6.0</td>\n",
              "      <td>4.0</td>\n",
              "      <td>112.0</td>\n",
              "      <td>326.0</td>\n",
              "      <td>33.0</td>\n",
              "      <td>162.0</td>\n",
              "      <td>334.0</td>\n",
              "      <td>110.0</td>\n",
              "      <td>121.0</td>\n",
              "      <td>120.0</td>\n",
              "    </tr>\n",
              "    <tr>\n",
              "      <th>2003</th>\n",
              "      <td>4.0</td>\n",
              "      <td>8.0</td>\n",
              "      <td>7.0</td>\n",
              "      <td>6.0</td>\n",
              "      <td>100.0</td>\n",
              "      <td>310.0</td>\n",
              "      <td>34.0</td>\n",
              "      <td>117.0</td>\n",
              "      <td>353.0</td>\n",
              "      <td>145.0</td>\n",
              "      <td>73.0</td>\n",
              "      <td>121.0</td>\n",
              "    </tr>\n",
              "    <tr>\n",
              "      <th>2004</th>\n",
              "      <td>NaN</td>\n",
              "      <td>5.0</td>\n",
              "      <td>8.0</td>\n",
              "      <td>4.0</td>\n",
              "      <td>46.0</td>\n",
              "      <td>492.0</td>\n",
              "      <td>12.0</td>\n",
              "      <td>42.0</td>\n",
              "      <td>369.0</td>\n",
              "      <td>95.0</td>\n",
              "      <td>34.0</td>\n",
              "      <td>59.0</td>\n",
              "    </tr>\n",
              "    <tr>\n",
              "      <th>2005</th>\n",
              "      <td>NaN</td>\n",
              "      <td>3.0</td>\n",
              "      <td>11.0</td>\n",
              "      <td>2.0</td>\n",
              "      <td>76.0</td>\n",
              "      <td>882.0</td>\n",
              "      <td>22.0</td>\n",
              "      <td>49.0</td>\n",
              "      <td>604.0</td>\n",
              "      <td>204.0</td>\n",
              "      <td>60.0</td>\n",
              "      <td>104.0</td>\n",
              "    </tr>\n",
              "    <tr>\n",
              "      <th>2006</th>\n",
              "      <td>2.0</td>\n",
              "      <td>5.0</td>\n",
              "      <td>6.0</td>\n",
              "      <td>1.0</td>\n",
              "      <td>70.0</td>\n",
              "      <td>1187.0</td>\n",
              "      <td>15.0</td>\n",
              "      <td>50.0</td>\n",
              "      <td>938.0</td>\n",
              "      <td>272.0</td>\n",
              "      <td>114.0</td>\n",
              "      <td>98.0</td>\n",
              "    </tr>\n",
              "    <tr>\n",
              "      <th>2007</th>\n",
              "      <td>1.0</td>\n",
              "      <td>4.0</td>\n",
              "      <td>4.0</td>\n",
              "      <td>NaN</td>\n",
              "      <td>62.0</td>\n",
              "      <td>1385.0</td>\n",
              "      <td>18.0</td>\n",
              "      <td>47.0</td>\n",
              "      <td>982.0</td>\n",
              "      <td>365.0</td>\n",
              "      <td>302.0</td>\n",
              "      <td>72.0</td>\n",
              "    </tr>\n",
              "    <tr>\n",
              "      <th>2008</th>\n",
              "      <td>8.0</td>\n",
              "      <td>NaN</td>\n",
              "      <td>36.0</td>\n",
              "      <td>25.0</td>\n",
              "      <td>209.0</td>\n",
              "      <td>1536.0</td>\n",
              "      <td>31.0</td>\n",
              "      <td>144.0</td>\n",
              "      <td>1759.0</td>\n",
              "      <td>514.0</td>\n",
              "      <td>380.0</td>\n",
              "      <td>163.0</td>\n",
              "    </tr>\n",
              "    <tr>\n",
              "      <th>2009</th>\n",
              "      <td>1.0</td>\n",
              "      <td>9.0</td>\n",
              "      <td>31.0</td>\n",
              "      <td>8.0</td>\n",
              "      <td>165.0</td>\n",
              "      <td>1361.0</td>\n",
              "      <td>16.0</td>\n",
              "      <td>159.0</td>\n",
              "      <td>1945.0</td>\n",
              "      <td>561.0</td>\n",
              "      <td>283.0</td>\n",
              "      <td>182.0</td>\n",
              "    </tr>\n",
              "    <tr>\n",
              "      <th>2010</th>\n",
              "      <td>1.0</td>\n",
              "      <td>1.0</td>\n",
              "      <td>9.0</td>\n",
              "      <td>1.0</td>\n",
              "      <td>261.0</td>\n",
              "      <td>1463.0</td>\n",
              "      <td>24.0</td>\n",
              "      <td>148.0</td>\n",
              "      <td>1981.0</td>\n",
              "      <td>473.0</td>\n",
              "      <td>331.0</td>\n",
              "      <td>133.0</td>\n",
              "    </tr>\n",
              "    <tr>\n",
              "      <th>2011</th>\n",
              "      <td>NaN</td>\n",
              "      <td>1.0</td>\n",
              "      <td>9.0</td>\n",
              "      <td>4.0</td>\n",
              "      <td>198.0</td>\n",
              "      <td>1663.0</td>\n",
              "      <td>12.0</td>\n",
              "      <td>106.0</td>\n",
              "      <td>2138.0</td>\n",
              "      <td>356.0</td>\n",
              "      <td>494.0</td>\n",
              "      <td>95.0</td>\n",
              "    </tr>\n",
              "    <tr>\n",
              "      <th>2012</th>\n",
              "      <td>NaN</td>\n",
              "      <td>1.0</td>\n",
              "      <td>12.0</td>\n",
              "      <td>4.0</td>\n",
              "      <td>173.0</td>\n",
              "      <td>2409.0</td>\n",
              "      <td>39.0</td>\n",
              "      <td>133.0</td>\n",
              "      <td>3803.0</td>\n",
              "      <td>587.0</td>\n",
              "      <td>1168.0</td>\n",
              "      <td>193.0</td>\n",
              "    </tr>\n",
              "    <tr>\n",
              "      <th>2013</th>\n",
              "      <td>1.0</td>\n",
              "      <td>14.0</td>\n",
              "      <td>7.0</td>\n",
              "      <td>15.0</td>\n",
              "      <td>165.0</td>\n",
              "      <td>4560.0</td>\n",
              "      <td>32.0</td>\n",
              "      <td>182.0</td>\n",
              "      <td>4612.0</td>\n",
              "      <td>1188.0</td>\n",
              "      <td>999.0</td>\n",
              "      <td>261.0</td>\n",
              "    </tr>\n",
              "    <tr>\n",
              "      <th>2014</th>\n",
              "      <td>9.0</td>\n",
              "      <td>5.0</td>\n",
              "      <td>9.0</td>\n",
              "      <td>43.0</td>\n",
              "      <td>962.0</td>\n",
              "      <td>6939.0</td>\n",
              "      <td>37.0</td>\n",
              "      <td>283.0</td>\n",
              "      <td>4998.0</td>\n",
              "      <td>1082.0</td>\n",
              "      <td>2321.0</td>\n",
              "      <td>215.0</td>\n",
              "    </tr>\n",
              "    <tr>\n",
              "      <th>2015</th>\n",
              "      <td>14.0</td>\n",
              "      <td>1.0</td>\n",
              "      <td>10.0</td>\n",
              "      <td>28.0</td>\n",
              "      <td>684.0</td>\n",
              "      <td>6036.0</td>\n",
              "      <td>62.0</td>\n",
              "      <td>176.0</td>\n",
              "      <td>4585.0</td>\n",
              "      <td>1072.0</td>\n",
              "      <td>1964.0</td>\n",
              "      <td>333.0</td>\n",
              "    </tr>\n",
              "    <tr>\n",
              "      <th>2016</th>\n",
              "      <td>10.0</td>\n",
              "      <td>3.0</td>\n",
              "      <td>17.0</td>\n",
              "      <td>8.0</td>\n",
              "      <td>134.0</td>\n",
              "      <td>6115.0</td>\n",
              "      <td>75.0</td>\n",
              "      <td>159.0</td>\n",
              "      <td>3639.0</td>\n",
              "      <td>1077.0</td>\n",
              "      <td>2077.0</td>\n",
              "      <td>273.0</td>\n",
              "    </tr>\n",
              "    <tr>\n",
              "      <th>2017</th>\n",
              "      <td>12.0</td>\n",
              "      <td>4.0</td>\n",
              "      <td>7.0</td>\n",
              "      <td>7.0</td>\n",
              "      <td>110.0</td>\n",
              "      <td>3780.0</td>\n",
              "      <td>97.0</td>\n",
              "      <td>172.0</td>\n",
              "      <td>3430.0</td>\n",
              "      <td>1020.0</td>\n",
              "      <td>1970.0</td>\n",
              "      <td>291.0</td>\n",
              "    </tr>\n",
              "  </tbody>\n",
              "</table>\n",
              "</div>\n",
              "      <button class=\"colab-df-convert\" onclick=\"convertToInteractive('df-5dfdb3e8-3734-47ba-8886-506a20b9d562')\"\n",
              "              title=\"Convert this dataframe to an interactive table.\"\n",
              "              style=\"display:none;\">\n",
              "        \n",
              "  <svg xmlns=\"http://www.w3.org/2000/svg\" height=\"24px\"viewBox=\"0 0 24 24\"\n",
              "       width=\"24px\">\n",
              "    <path d=\"M0 0h24v24H0V0z\" fill=\"none\"/>\n",
              "    <path d=\"M18.56 5.44l.94 2.06.94-2.06 2.06-.94-2.06-.94-.94-2.06-.94 2.06-2.06.94zm-11 1L8.5 8.5l.94-2.06 2.06-.94-2.06-.94L8.5 2.5l-.94 2.06-2.06.94zm10 10l.94 2.06.94-2.06 2.06-.94-2.06-.94-.94-2.06-.94 2.06-2.06.94z\"/><path d=\"M17.41 7.96l-1.37-1.37c-.4-.4-.92-.59-1.43-.59-.52 0-1.04.2-1.43.59L10.3 9.45l-7.72 7.72c-.78.78-.78 2.05 0 2.83L4 21.41c.39.39.9.59 1.41.59.51 0 1.02-.2 1.41-.59l7.78-7.78 2.81-2.81c.8-.78.8-2.07 0-2.86zM5.41 20L4 18.59l7.72-7.72 1.47 1.35L5.41 20z\"/>\n",
              "  </svg>\n",
              "      </button>\n",
              "      \n",
              "  <style>\n",
              "    .colab-df-container {\n",
              "      display:flex;\n",
              "      flex-wrap:wrap;\n",
              "      gap: 12px;\n",
              "    }\n",
              "\n",
              "    .colab-df-convert {\n",
              "      background-color: #E8F0FE;\n",
              "      border: none;\n",
              "      border-radius: 50%;\n",
              "      cursor: pointer;\n",
              "      display: none;\n",
              "      fill: #1967D2;\n",
              "      height: 32px;\n",
              "      padding: 0 0 0 0;\n",
              "      width: 32px;\n",
              "    }\n",
              "\n",
              "    .colab-df-convert:hover {\n",
              "      background-color: #E2EBFA;\n",
              "      box-shadow: 0px 1px 2px rgba(60, 64, 67, 0.3), 0px 1px 3px 1px rgba(60, 64, 67, 0.15);\n",
              "      fill: #174EA6;\n",
              "    }\n",
              "\n",
              "    [theme=dark] .colab-df-convert {\n",
              "      background-color: #3B4455;\n",
              "      fill: #D2E3FC;\n",
              "    }\n",
              "\n",
              "    [theme=dark] .colab-df-convert:hover {\n",
              "      background-color: #434B5C;\n",
              "      box-shadow: 0px 1px 3px 1px rgba(0, 0, 0, 0.15);\n",
              "      filter: drop-shadow(0px 1px 2px rgba(0, 0, 0, 0.3));\n",
              "      fill: #FFFFFF;\n",
              "    }\n",
              "  </style>\n",
              "\n",
              "      <script>\n",
              "        const buttonEl =\n",
              "          document.querySelector('#df-5dfdb3e8-3734-47ba-8886-506a20b9d562 button.colab-df-convert');\n",
              "        buttonEl.style.display =\n",
              "          google.colab.kernel.accessAllowed ? 'block' : 'none';\n",
              "\n",
              "        async function convertToInteractive(key) {\n",
              "          const element = document.querySelector('#df-5dfdb3e8-3734-47ba-8886-506a20b9d562');\n",
              "          const dataTable =\n",
              "            await google.colab.kernel.invokeFunction('convertToInteractive',\n",
              "                                                     [key], {});\n",
              "          if (!dataTable) return;\n",
              "\n",
              "          const docLinkHtml = 'Like what you see? Visit the ' +\n",
              "            '<a target=\"_blank\" href=https://colab.research.google.com/notebooks/data_table.ipynb>data table notebook</a>'\n",
              "            + ' to learn more about interactive tables.';\n",
              "          element.innerHTML = '';\n",
              "          dataTable['output_type'] = 'display_data';\n",
              "          await google.colab.output.renderOutput(dataTable, element);\n",
              "          const docLink = document.createElement('div');\n",
              "          docLink.innerHTML = docLinkHtml;\n",
              "          element.appendChild(docLink);\n",
              "        }\n",
              "      </script>\n",
              "    </div>\n",
              "  </div>\n",
              "  "
            ]
          },
          "metadata": {},
          "execution_count": 325
        }
      ]
    },
    {
      "cell_type": "code",
      "source": [
        "# Plotting the Multiline Chart (subplot by decade)\n",
        "attacks_per_year.plot(grid = True).patch.set_facecolor('#f0ffff')\n",
        "\n",
        "# Set a title of the chart.\n",
        "plt.title('Attacks by region per decade', fontsize = 25)\n",
        "\n",
        "# Set the x and y axis labels\n",
        "plt.ylabel('No. of Attacks', fontsize = 15)\n",
        "plt.xlabel('Year', fontsize = 15)\n",
        "\n",
        "# Setting the figure size\n",
        "plt.rcParams['figure.figsize'] = (20, 5)\n",
        "\n",
        "# show a legend on the plot\n",
        "plt.legend()"
      ],
      "metadata": {
        "id": "M1wcfsZ5ZhV2",
        "colab": {
          "base_uri": "https://localhost:8080/",
          "height": 381
        },
        "outputId": "173f3aea-4a5d-4f09-f0b1-195af6605dcc"
      },
      "execution_count": null,
      "outputs": [
        {
          "output_type": "execute_result",
          "data": {
            "text/plain": [
              "<matplotlib.legend.Legend at 0x7ff1e24985d0>"
            ]
          },
          "metadata": {},
          "execution_count": 192
        },
        {
          "output_type": "display_data",
          "data": {
            "text/plain": [
              "<Figure size 1440x360 with 1 Axes>"
            ],
            "image/png": "[encoded data removed]"
          },
          "metadata": {
            "needs_background": "light"
          }
        }
      ]
    },
    {
      "cell_type": "markdown",
      "source": [
        "## Conclusion :- From the above graph we can conclude that after the year 2010 their is a hude spike in the terrorist attacks."
      ],
      "metadata": {
        "id": "PLbuWy4NIShn"
      }
    },
    {
      "cell_type": "markdown",
      "source": [
        "## <b> 3.3 Analysing the trend across the year"
      ],
      "metadata": {
        "id": "hepDGt98Ctah"
      }
    },
    {
      "cell_type": "code",
      "source": [
        "yearly_trend = terrorism_data_new.year.value_counts().sort_index(ascending=True)\n",
        "yearly_trend"
      ],
      "metadata": {
        "id": "9NGcgKFZC2G5"
      },
      "execution_count": null,
      "outputs": []
    },
    {
      "cell_type": "code",
      "source": [
        "# Plotting the line Chart to show the trend.\n",
        "yearly_trend.plot(kind = 'line', marker = 'o', ls = ':', grid = True, colormap = \"cividis\").patch.set_facecolor('#f0ffff')\n",
        "\n",
        "# Set a title of the chart.\n",
        "plt.title('Attacks Per Year', fontsize = 25)\n",
        "\n",
        "# Set the x and y axis labels\n",
        "plt.ylabel('No. of Attacks', fontsize = 15)\n",
        "plt.xlabel('Year', fontsize = 15)\n",
        "\n",
        "# Setting the figure size\n",
        "plt.rcParams['figure.figsize'] = (15, 5)\n",
        "\n",
        "# show a legend on the plot\n",
        "plt.legend()\n",
        "\n",
        "# Display a figure.\n",
        "plt.show()"
      ],
      "metadata": {
        "id": "YHCzE8zyqfWp",
        "colab": {
          "base_uri": "https://localhost:8080/",
          "height": 364
        },
        "outputId": "a38b2579-b52e-4b11-fd17-08a95e5f1fd9"
      },
      "execution_count": null,
      "outputs": [
        {
          "output_type": "display_data",
          "data": {
            "text/plain": [
              "<Figure size 1080x360 with 1 Axes>"
            ],
            "image/png": "[encoded data removed]"
          },
          "metadata": {
            "needs_background": "light"
          }
        }
      ]
    },
    {
      "cell_type": "markdown",
      "source": [
        "## <b> In the above graph it is visible that for year 2014 their where most terrorist attack so analysing which region got attacked most"
      ],
      "metadata": {
        "id": "HklCw6-kKg9L"
      }
    },
    {
      "cell_type": "code",
      "source": [
        "attacks_in_2014 = terrorism_data_new[terrorism_data_new['year'] == 2014]\n",
        "attack_2014 = attacks_in_2014['region'].value_counts().to_frame()"
      ],
      "metadata": {
        "id": "t6lHa0S9KVqe"
      },
      "execution_count": null,
      "outputs": []
    },
    {
      "cell_type": "code",
      "source": [
        "# Plotting the line Chart to show the trend.\n",
        "\n",
        "attack_2014.plot(kind = 'barh',color = palette, grid = True).patch.set_facecolor('#f0ffff')\n",
        "\n",
        "# Set a title of the chart.\n",
        "plt.title('Attacks in year 2014 per region', fontsize = 25)\n",
        "\n",
        "# Set the x and y axis labels\n",
        "plt.ylabel('Region', fontsize = 15)\n",
        "plt.xlabel('Year', fontsize = 15)\n",
        "\n",
        "# Setting the figure size\n",
        "plt.rcParams['figure.figsize'] = (15, 5)\n",
        "\n",
        "# show a legend on the plot\n",
        "plt.legend()\n",
        "\n",
        "# Display a figure.\n",
        "plt.show()"
      ],
      "metadata": {
        "id": "iLga1ibrY782",
        "colab": {
          "base_uri": "https://localhost:8080/",
          "height": 687
        },
        "outputId": "c606db92-7171-4014-add4-07ca526a9f2b"
      },
      "execution_count": null,
      "outputs": [
        {
          "output_type": "error",
          "ename": "ValueError",
          "evalue": "ignored",
          "traceback": [
            "\u001b[0;31m---------------------------------------------------------------------------\u001b[0m",
            "\u001b[0;31mValueError\u001b[0m                                Traceback (most recent call last)",
            "\u001b[0;32m<ipython-input-348-1d267f25d6a1>\u001b[0m in \u001b[0;36m<module>\u001b[0;34m()\u001b[0m\n\u001b[1;32m      2\u001b[0m \u001b[0mpalette\u001b[0m\u001b[0;34m=\u001b[0m\u001b[0;34m[\u001b[0m\u001b[0;34m'PiYG'\u001b[0m\u001b[0;34m,\u001b[0m \u001b[0;34m'PRGn'\u001b[0m\u001b[0;34m,\u001b[0m \u001b[0;34m'BrBG'\u001b[0m\u001b[0;34m,\u001b[0m \u001b[0;34m'PuOr'\u001b[0m\u001b[0;34m,\u001b[0m \u001b[0;34m'RdGy'\u001b[0m\u001b[0;34m,\u001b[0m \u001b[0;34m'RdBu'\u001b[0m\u001b[0;34m,\u001b[0m\u001b[0;34m'RdYlBu'\u001b[0m\u001b[0;34m,\u001b[0m \u001b[0;34m'RdYlGn'\u001b[0m\u001b[0;34m,\u001b[0m \u001b[0;34m'Spectral'\u001b[0m\u001b[0;34m,\u001b[0m \u001b[0;34m'coolwarm'\u001b[0m\u001b[0;34m,\u001b[0m \u001b[0;34m'bwr'\u001b[0m\u001b[0;34m,\u001b[0m \u001b[0;34m'seismic'\u001b[0m\u001b[0;34m]\u001b[0m\u001b[0;34m\u001b[0m\u001b[0;34m\u001b[0m\u001b[0m\n\u001b[1;32m      3\u001b[0m \u001b[0;34m\u001b[0m\u001b[0m\n\u001b[0;32m----> 4\u001b[0;31m \u001b[0mattack_2014\u001b[0m\u001b[0;34m.\u001b[0m\u001b[0mplot\u001b[0m\u001b[0;34m(\u001b[0m\u001b[0mkind\u001b[0m \u001b[0;34m=\u001b[0m \u001b[0;34m'barh'\u001b[0m\u001b[0;34m,\u001b[0m\u001b[0mcolor\u001b[0m \u001b[0;34m=\u001b[0m \u001b[0;34m'palette'\u001b[0m\u001b[0;34m,\u001b[0m \u001b[0mgrid\u001b[0m \u001b[0;34m=\u001b[0m \u001b[0;32mTrue\u001b[0m\u001b[0;34m)\u001b[0m\u001b[0;34m.\u001b[0m\u001b[0mpatch\u001b[0m\u001b[0;34m.\u001b[0m\u001b[0mset_facecolor\u001b[0m\u001b[0;34m(\u001b[0m\u001b[0;34m'#f0ffff'\u001b[0m\u001b[0;34m)\u001b[0m\u001b[0;34m\u001b[0m\u001b[0;34m\u001b[0m\u001b[0m\n\u001b[0m\u001b[1;32m      5\u001b[0m \u001b[0;34m\u001b[0m\u001b[0m\n\u001b[1;32m      6\u001b[0m \u001b[0;31m# Set a title of the chart.\u001b[0m\u001b[0;34m\u001b[0m\u001b[0;34m\u001b[0m\u001b[0;34m\u001b[0m\u001b[0m\n",
            "\u001b[0;32m/usr/local/lib/python3.7/dist-packages/pandas/plotting/_core.py\u001b[0m in \u001b[0;36m__call__\u001b[0;34m(self, *args, **kwargs)\u001b[0m\n\u001b[1;32m    970\u001b[0m                     \u001b[0mdata\u001b[0m\u001b[0;34m.\u001b[0m\u001b[0mcolumns\u001b[0m \u001b[0;34m=\u001b[0m \u001b[0mlabel_name\u001b[0m\u001b[0;34m\u001b[0m\u001b[0;34m\u001b[0m\u001b[0m\n\u001b[1;32m    971\u001b[0m \u001b[0;34m\u001b[0m\u001b[0m\n\u001b[0;32m--> 972\u001b[0;31m         \u001b[0;32mreturn\u001b[0m \u001b[0mplot_backend\u001b[0m\u001b[0;34m.\u001b[0m\u001b[0mplot\u001b[0m\u001b[0;34m(\u001b[0m\u001b[0mdata\u001b[0m\u001b[0;34m,\u001b[0m \u001b[0mkind\u001b[0m\u001b[0;34m=\u001b[0m\u001b[0mkind\u001b[0m\u001b[0;34m,\u001b[0m \u001b[0;34m**\u001b[0m\u001b[0mkwargs\u001b[0m\u001b[0;34m)\u001b[0m\u001b[0;34m\u001b[0m\u001b[0;34m\u001b[0m\u001b[0m\n\u001b[0m\u001b[1;32m    973\u001b[0m \u001b[0;34m\u001b[0m\u001b[0m\n\u001b[1;32m    974\u001b[0m     \u001b[0m__call__\u001b[0m\u001b[0;34m.\u001b[0m\u001b[0m__doc__\u001b[0m \u001b[0;34m=\u001b[0m \u001b[0m__doc__\u001b[0m\u001b[0;34m\u001b[0m\u001b[0;34m\u001b[0m\u001b[0m\n",
            "\u001b[0;32m/usr/local/lib/python3.7/dist-packages/pandas/plotting/_matplotlib/__init__.py\u001b[0m in \u001b[0;36mplot\u001b[0;34m(data, kind, **kwargs)\u001b[0m\n\u001b[1;32m     69\u001b[0m             \u001b[0mkwargs\u001b[0m\u001b[0;34m[\u001b[0m\u001b[0;34m\"ax\"\u001b[0m\u001b[0;34m]\u001b[0m \u001b[0;34m=\u001b[0m \u001b[0mgetattr\u001b[0m\u001b[0;34m(\u001b[0m\u001b[0max\u001b[0m\u001b[0;34m,\u001b[0m \u001b[0;34m\"left_ax\"\u001b[0m\u001b[0;34m,\u001b[0m \u001b[0max\u001b[0m\u001b[0;34m)\u001b[0m\u001b[0;34m\u001b[0m\u001b[0;34m\u001b[0m\u001b[0m\n\u001b[1;32m     70\u001b[0m     \u001b[0mplot_obj\u001b[0m \u001b[0;34m=\u001b[0m \u001b[0mPLOT_CLASSES\u001b[0m\u001b[0;34m[\u001b[0m\u001b[0mkind\u001b[0m\u001b[0;34m]\u001b[0m\u001b[0;34m(\u001b[0m\u001b[0mdata\u001b[0m\u001b[0;34m,\u001b[0m \u001b[0;34m**\u001b[0m\u001b[0mkwargs\u001b[0m\u001b[0;34m)\u001b[0m\u001b[0;34m\u001b[0m\u001b[0;34m\u001b[0m\u001b[0m\n\u001b[0;32m---> 71\u001b[0;31m     \u001b[0mplot_obj\u001b[0m\u001b[0;34m.\u001b[0m\u001b[0mgenerate\u001b[0m\u001b[0;34m(\u001b[0m\u001b[0;34m)\u001b[0m\u001b[0;34m\u001b[0m\u001b[0;34m\u001b[0m\u001b[0m\n\u001b[0m\u001b[1;32m     72\u001b[0m     \u001b[0mplot_obj\u001b[0m\u001b[0;34m.\u001b[0m\u001b[0mdraw\u001b[0m\u001b[0;34m(\u001b[0m\u001b[0;34m)\u001b[0m\u001b[0;34m\u001b[0m\u001b[0;34m\u001b[0m\u001b[0m\n\u001b[1;32m     73\u001b[0m     \u001b[0;32mreturn\u001b[0m \u001b[0mplot_obj\u001b[0m\u001b[0;34m.\u001b[0m\u001b[0mresult\u001b[0m\u001b[0;34m\u001b[0m\u001b[0;34m\u001b[0m\u001b[0m\n",
            "\u001b[0;32m/usr/local/lib/python3.7/dist-packages/pandas/plotting/_matplotlib/core.py\u001b[0m in \u001b[0;36mgenerate\u001b[0;34m(self)\u001b[0m\n\u001b[1;32m    286\u001b[0m         \u001b[0mself\u001b[0m\u001b[0;34m.\u001b[0m\u001b[0m_compute_plot_data\u001b[0m\u001b[0;34m(\u001b[0m\u001b[0;34m)\u001b[0m\u001b[0;34m\u001b[0m\u001b[0;34m\u001b[0m\u001b[0m\n\u001b[1;32m    287\u001b[0m         \u001b[0mself\u001b[0m\u001b[0;34m.\u001b[0m\u001b[0m_setup_subplots\u001b[0m\u001b[0;34m(\u001b[0m\u001b[0;34m)\u001b[0m\u001b[0;34m\u001b[0m\u001b[0;34m\u001b[0m\u001b[0m\n\u001b[0;32m--> 288\u001b[0;31m         \u001b[0mself\u001b[0m\u001b[0;34m.\u001b[0m\u001b[0m_make_plot\u001b[0m\u001b[0;34m(\u001b[0m\u001b[0;34m)\u001b[0m\u001b[0;34m\u001b[0m\u001b[0;34m\u001b[0m\u001b[0m\n\u001b[0m\u001b[1;32m    289\u001b[0m         \u001b[0mself\u001b[0m\u001b[0;34m.\u001b[0m\u001b[0m_add_table\u001b[0m\u001b[0;34m(\u001b[0m\u001b[0;34m)\u001b[0m\u001b[0;34m\u001b[0m\u001b[0;34m\u001b[0m\u001b[0m\n\u001b[1;32m    290\u001b[0m         \u001b[0mself\u001b[0m\u001b[0;34m.\u001b[0m\u001b[0m_make_legend\u001b[0m\u001b[0;34m(\u001b[0m\u001b[0;34m)\u001b[0m\u001b[0;34m\u001b[0m\u001b[0;34m\u001b[0m\u001b[0m\n",
            "\u001b[0;32m/usr/local/lib/python3.7/dist-packages/pandas/plotting/_matplotlib/core.py\u001b[0m in \u001b[0;36m_make_plot\u001b[0;34m(self)\u001b[0m\n\u001b[1;32m   1446\u001b[0m         \u001b[0;32mimport\u001b[0m \u001b[0mmatplotlib\u001b[0m \u001b[0;32mas\u001b[0m \u001b[0mmpl\u001b[0m\u001b[0;34m\u001b[0m\u001b[0;34m\u001b[0m\u001b[0m\n\u001b[1;32m   1447\u001b[0m \u001b[0;34m\u001b[0m\u001b[0m\n\u001b[0;32m-> 1448\u001b[0;31m         \u001b[0mcolors\u001b[0m \u001b[0;34m=\u001b[0m \u001b[0mself\u001b[0m\u001b[0;34m.\u001b[0m\u001b[0m_get_colors\u001b[0m\u001b[0;34m(\u001b[0m\u001b[0;34m)\u001b[0m\u001b[0;34m\u001b[0m\u001b[0;34m\u001b[0m\u001b[0m\n\u001b[0m\u001b[1;32m   1449\u001b[0m         \u001b[0mncolors\u001b[0m \u001b[0;34m=\u001b[0m \u001b[0mlen\u001b[0m\u001b[0;34m(\u001b[0m\u001b[0mcolors\u001b[0m\u001b[0;34m)\u001b[0m\u001b[0;34m\u001b[0m\u001b[0;34m\u001b[0m\u001b[0m\n\u001b[1;32m   1450\u001b[0m \u001b[0;34m\u001b[0m\u001b[0m\n",
            "\u001b[0;32m/usr/local/lib/python3.7/dist-packages/pandas/plotting/_matplotlib/core.py\u001b[0m in \u001b[0;36m_get_colors\u001b[0;34m(self, num_colors, color_kwds)\u001b[0m\n\u001b[1;32m    799\u001b[0m             \u001b[0mnum_colors\u001b[0m\u001b[0;34m=\u001b[0m\u001b[0mnum_colors\u001b[0m\u001b[0;34m,\u001b[0m\u001b[0;34m\u001b[0m\u001b[0;34m\u001b[0m\u001b[0m\n\u001b[1;32m    800\u001b[0m             \u001b[0mcolormap\u001b[0m\u001b[0;34m=\u001b[0m\u001b[0mself\u001b[0m\u001b[0;34m.\u001b[0m\u001b[0mcolormap\u001b[0m\u001b[0;34m,\u001b[0m\u001b[0;34m\u001b[0m\u001b[0;34m\u001b[0m\u001b[0m\n\u001b[0;32m--> 801\u001b[0;31m             \u001b[0mcolor\u001b[0m\u001b[0;34m=\u001b[0m\u001b[0mself\u001b[0m\u001b[0;34m.\u001b[0m\u001b[0mkwds\u001b[0m\u001b[0;34m.\u001b[0m\u001b[0mget\u001b[0m\u001b[0;34m(\u001b[0m\u001b[0mcolor_kwds\u001b[0m\u001b[0;34m)\u001b[0m\u001b[0;34m,\u001b[0m\u001b[0;34m\u001b[0m\u001b[0;34m\u001b[0m\u001b[0m\n\u001b[0m\u001b[1;32m    802\u001b[0m         )\n\u001b[1;32m    803\u001b[0m \u001b[0;34m\u001b[0m\u001b[0m\n",
            "\u001b[0;32m/usr/local/lib/python3.7/dist-packages/pandas/plotting/_matplotlib/style.py\u001b[0m in \u001b[0;36mget_standard_colors\u001b[0;34m(num_colors, colormap, color_type, color)\u001b[0m\n\u001b[1;32m     72\u001b[0m         \u001b[0mcolormap\u001b[0m\u001b[0;34m=\u001b[0m\u001b[0mcolormap\u001b[0m\u001b[0;34m,\u001b[0m\u001b[0;34m\u001b[0m\u001b[0;34m\u001b[0m\u001b[0m\n\u001b[1;32m     73\u001b[0m         \u001b[0mcolor_type\u001b[0m\u001b[0;34m=\u001b[0m\u001b[0mcolor_type\u001b[0m\u001b[0;34m,\u001b[0m\u001b[0;34m\u001b[0m\u001b[0;34m\u001b[0m\u001b[0m\n\u001b[0;32m---> 74\u001b[0;31m         \u001b[0mnum_colors\u001b[0m\u001b[0;34m=\u001b[0m\u001b[0mnum_colors\u001b[0m\u001b[0;34m,\u001b[0m\u001b[0;34m\u001b[0m\u001b[0;34m\u001b[0m\u001b[0m\n\u001b[0m\u001b[1;32m     75\u001b[0m     )\n\u001b[1;32m     76\u001b[0m \u001b[0;34m\u001b[0m\u001b[0m\n",
            "\u001b[0;32m/usr/local/lib/python3.7/dist-packages/pandas/plotting/_matplotlib/style.py\u001b[0m in \u001b[0;36m_derive_colors\u001b[0;34m(color, colormap, color_type, num_colors)\u001b[0m\n\u001b[1;32m    124\u001b[0m                 \u001b[0;34m\"'color' and 'colormap' cannot be used simultaneously. Using 'color'\"\u001b[0m\u001b[0;34m\u001b[0m\u001b[0;34m\u001b[0m\u001b[0m\n\u001b[1;32m    125\u001b[0m             )\n\u001b[0;32m--> 126\u001b[0;31m         \u001b[0;32mreturn\u001b[0m \u001b[0m_get_colors_from_color\u001b[0m\u001b[0;34m(\u001b[0m\u001b[0mcolor\u001b[0m\u001b[0;34m)\u001b[0m\u001b[0;34m\u001b[0m\u001b[0;34m\u001b[0m\u001b[0m\n\u001b[0m\u001b[1;32m    127\u001b[0m     \u001b[0;32melse\u001b[0m\u001b[0;34m:\u001b[0m\u001b[0;34m\u001b[0m\u001b[0;34m\u001b[0m\u001b[0m\n\u001b[1;32m    128\u001b[0m         \u001b[0;32mreturn\u001b[0m \u001b[0m_get_colors_from_color_type\u001b[0m\u001b[0;34m(\u001b[0m\u001b[0mcolor_type\u001b[0m\u001b[0;34m,\u001b[0m \u001b[0mnum_colors\u001b[0m\u001b[0;34m=\u001b[0m\u001b[0mnum_colors\u001b[0m\u001b[0;34m)\u001b[0m\u001b[0;34m\u001b[0m\u001b[0;34m\u001b[0m\u001b[0m\n",
            "\u001b[0;32m/usr/local/lib/python3.7/dist-packages/pandas/plotting/_matplotlib/style.py\u001b[0m in \u001b[0;36m_get_colors_from_color\u001b[0;34m(color)\u001b[0m\n\u001b[1;32m    170\u001b[0m \u001b[0;34m\u001b[0m\u001b[0m\n\u001b[1;32m    171\u001b[0m     \u001b[0mcolor\u001b[0m \u001b[0;34m=\u001b[0m \u001b[0mcast\u001b[0m\u001b[0;34m(\u001b[0m\u001b[0mCollection\u001b[0m\u001b[0;34m[\u001b[0m\u001b[0mColor\u001b[0m\u001b[0;34m]\u001b[0m\u001b[0;34m,\u001b[0m \u001b[0mcolor\u001b[0m\u001b[0;34m)\u001b[0m\u001b[0;34m\u001b[0m\u001b[0;34m\u001b[0m\u001b[0m\n\u001b[0;32m--> 172\u001b[0;31m     \u001b[0;32mreturn\u001b[0m \u001b[0mlist\u001b[0m\u001b[0;34m(\u001b[0m\u001b[0m_gen_list_of_colors_from_iterable\u001b[0m\u001b[0;34m(\u001b[0m\u001b[0mcolor\u001b[0m\u001b[0;34m)\u001b[0m\u001b[0;34m)\u001b[0m\u001b[0;34m\u001b[0m\u001b[0;34m\u001b[0m\u001b[0m\n\u001b[0m\u001b[1;32m    173\u001b[0m \u001b[0;34m\u001b[0m\u001b[0m\n\u001b[1;32m    174\u001b[0m \u001b[0;34m\u001b[0m\u001b[0m\n",
            "\u001b[0;32m/usr/local/lib/python3.7/dist-packages/pandas/plotting/_matplotlib/style.py\u001b[0m in \u001b[0;36m_gen_list_of_colors_from_iterable\u001b[0;34m(color)\u001b[0m\n\u001b[1;32m    203\u001b[0m             \u001b[0;32myield\u001b[0m \u001b[0mx\u001b[0m\u001b[0;34m\u001b[0m\u001b[0;34m\u001b[0m\u001b[0m\n\u001b[1;32m    204\u001b[0m         \u001b[0;32melse\u001b[0m\u001b[0;34m:\u001b[0m\u001b[0;34m\u001b[0m\u001b[0;34m\u001b[0m\u001b[0m\n\u001b[0;32m--> 205\u001b[0;31m             \u001b[0;32mraise\u001b[0m \u001b[0mValueError\u001b[0m\u001b[0;34m(\u001b[0m\u001b[0;34mf\"Invalid color {x}\"\u001b[0m\u001b[0;34m)\u001b[0m\u001b[0;34m\u001b[0m\u001b[0;34m\u001b[0m\u001b[0m\n\u001b[0m\u001b[1;32m    206\u001b[0m \u001b[0;34m\u001b[0m\u001b[0m\n\u001b[1;32m    207\u001b[0m \u001b[0;34m\u001b[0m\u001b[0m\n",
            "\u001b[0;31mValueError\u001b[0m: Invalid color palette"
          ]
        },
        {
          "output_type": "display_data",
          "data": {
            "text/plain": [
              "<Figure size 1080x360 with 1 Axes>"
            ],
            "image/png": "[encoded data removed]"
          },
          "metadata": {
            "needs_background": "light"
          }
        }
      ]
    },
    {
      "cell_type": "markdown",
      "source": [
        "## <b> Top 10 countries which where most attacked"
      ],
      "metadata": {
        "id": "eNEYNVa6FsXa"
      }
    },
    {
      "cell_type": "code",
      "source": [
        "top_10_countries = terrorism_data_new['country'].value_counts().head(10)\n",
        "top_10_countries"
      ],
      "metadata": {
        "id": "KlYUpC0SFzjC",
        "colab": {
          "base_uri": "https://localhost:8080/"
        },
        "outputId": "7ab282d4-2d39-43dc-cbd5-68d04367df48"
      },
      "execution_count": null,
      "outputs": [
        {
          "output_type": "execute_result",
          "data": {
            "text/plain": [
              "Iraq              24636\n",
              "Pakistan          14368\n",
              "Afghanistan       12731\n",
              "India             11960\n",
              "Colombia           8306\n",
              "Philippines        6908\n",
              "Peru               6096\n",
              "El Salvador        5320\n",
              "United Kingdom     5235\n",
              "Turkey             4292\n",
              "Name: country, dtype: int64"
            ]
          },
          "metadata": {},
          "execution_count": 172
        }
      ]
    },
    {
      "cell_type": "code",
      "source": [
        "# Defining the explode\n",
        "myexplode = [0.2, 0.1, 0.1, 0, 0, 0, 0, 0, 0, 0 ]\n",
        "color_set = [\"#e82727\",\"#ff8649\",\"#ffc549\",\"#fced20\",\"#8fe222\",\"#22e28e\",\"#22e2db\",\"#1f85c4\",\"#361599\",\"#d11fce\"]\n",
        "\n",
        "# Plotting the Pie Chart\n",
        "top_10_countries.plot(kind = 'pie', explode = myexplode,autopct ='% 1.1f %%',colors = color_set)\n",
        "\n",
        "# Set a title of the chart.\n",
        "plt.title('Top 10 Contries Under attack', fontsize = 25)\n",
        "\n",
        "# Set the y label\n",
        "plt.ylabel('Countries', fontsize = 15)\n",
        "\n",
        "# Setting the figure size\n",
        "plt.rcParams['figure.figsize'] = (20, 10)\n",
        "\n",
        "# Display a figure.\n",
        "plt.show()"
      ],
      "metadata": {
        "id": "gHVL_TIMFzhY",
        "colab": {
          "base_uri": "https://localhost:8080/",
          "height": 600
        },
        "outputId": "77eb83b3-76d8-490a-e2ff-a2b30f9069a6"
      },
      "execution_count": null,
      "outputs": [
        {
          "output_type": "display_data",
          "data": {
            "text/plain": [
              "<Figure size 1440x720 with 1 Axes>"
            ],
            "image/png": "[encoded data removed]"
          },
          "metadata": {}
        }
      ]
    },
    {
      "cell_type": "markdown",
      "source": [
        "## <b> Top 10 states under attack"
      ],
      "metadata": {
        "id": "z1aMY1NhGzWz"
      }
    },
    {
      "cell_type": "code",
      "source": [
        "top_10_states = terrorism_data_new['state'].value_counts().head(10)"
      ],
      "metadata": {
        "id": "9NjrabBRFzdT"
      },
      "execution_count": null,
      "outputs": []
    },
    {
      "cell_type": "code",
      "source": [
        "# Plotting the horizontal Bar graph\n",
        "\n",
        "palette = sns.color_palette(\"inferno\", 10).as_hex()\n",
        "top_10_states.plot(kind = 'barh', color= palette, edgecolor='green', grid = True).patch.set_facecolor('#f0ffff')\n",
        "\n",
        "# Set a title of the current axes.\n",
        "plt.title('Top 10 states Under attack', fontsize = 25)\n",
        "\n",
        "# Set the x and y axis label\n",
        "plt.xlabel('No. of Attacks', fontsize = 15)\n",
        "plt.ylabel('States', fontsize = 15)\n",
        "\n",
        "# Setting the figure size\n",
        "plt.rcParams['figure.figsize'] = (10, 5)\n",
        "\n",
        "# Display a figure.\n",
        "plt.show()"
      ],
      "metadata": {
        "id": "e2Zpe5HiHG6_",
        "colab": {
          "base_uri": "https://localhost:8080/",
          "height": 364
        },
        "outputId": "66603c2b-b8d1-4b9a-fc7a-67954ff57704"
      },
      "execution_count": null,
      "outputs": [
        {
          "output_type": "display_data",
          "data": {
            "text/plain": [
              "<Figure size 720x360 with 1 Axes>"
            ],
            "image/png": "[encoded data removed]"
          },
          "metadata": {
            "needs_background": "light"
          }
        }
      ]
    },
    {
      "cell_type": "markdown",
      "source": [
        "## <b>  Which attack type is the most common"
      ],
      "metadata": {
        "id": "pqmZ38pa_4Pv"
      }
    },
    {
      "cell_type": "code",
      "source": [
        "common_attack_type = terrorism_data_new['attack_type'].value_counts()"
      ],
      "metadata": {
        "id": "I53DViAzAaLB"
      },
      "execution_count": null,
      "outputs": []
    },
    {
      "cell_type": "code",
      "source": [
        "# Defining the explode\n",
        "myexplode = [0.1, 0.1, 0.1, 0.1, 0.1, 0.1, 0.1, 0.1, 0.1 ]\n",
        "color_set = [\"#d11fce\",\"#ff8649\",\"#ffc549\",\"#fced20\",\"#8fe222\",\"#22e28e\",\"#22e2db\",\"#1f85c4\",\"#361599\"]\n",
        "\n",
        "# Plotting the Pie Chart\n",
        "common_attack_type.plot(kind = 'pie', explode = myexplode, autopct ='% 1.1f %%', colors = color_set)\n",
        "\n",
        "# Set a title of the chart.\n",
        "plt.title('Most common attack', fontsize = 25)\n",
        "\n",
        "# Set the y label\n",
        "plt.ylabel('No. of attacks', fontsize = 15)\n",
        "\n",
        "# Setting the figure size\n",
        "plt.rcParams['figure.figsize'] = (20, 10)\n",
        "\n",
        "# Display a figure.\n",
        "plt.show()"
      ],
      "metadata": {
        "id": "D00S-ffJAaHs",
        "colab": {
          "base_uri": "https://localhost:8080/",
          "height": 600
        },
        "outputId": "e30d5844-50cd-417d-99f4-df43c595d833"
      },
      "execution_count": null,
      "outputs": [
        {
          "output_type": "display_data",
          "data": {
            "text/plain": [
              "<Figure size 1440x720 with 1 Axes>"
            ],
            "image/png": "[encoded data removed]"
          },
          "metadata": {}
        }
      ]
    },
    {
      "cell_type": "markdown",
      "source": [
        "## <b> Which gang attacked the most <b>"
      ],
      "metadata": {
        "id": "PJkHRZRbBHsu"
      }
    },
    {
      "cell_type": "code",
      "source": [
        "leading_gangs = terrorism_data_new['gang_name'].value_counts().head(10)"
      ],
      "metadata": {
        "id": "6M1CrGhvCEj-"
      },
      "execution_count": null,
      "outputs": []
    },
    {
      "cell_type": "code",
      "source": [
        "# Plotting the horizontal Bar graph\n",
        "leading_gangs.plot(kind = 'barh', edgecolor='black', grid = True).patch.set_facecolor('#f0ffff')\n",
        "\n",
        "# Set a title for our chart\n",
        "plt.title('Leading Gangs', fontsize = 25)\n",
        "\n",
        "# Set the x and y axis label\n",
        "plt.xlabel('Gang Name', fontsize = 15)\n",
        "plt.ylabel('No. of attacks', fontsize = 15)\n",
        "\n",
        "# Setting the figure size\n",
        "plt.rcParams['figure.figsize'] = (10, 5)\n",
        "\n",
        "# Display a figure.\n",
        "plt.show()"
      ],
      "metadata": {
        "id": "zqOQQno0JSdY",
        "colab": {
          "base_uri": "https://localhost:8080/",
          "height": 364
        },
        "outputId": "7158beed-354f-4239-929d-ca9b8ac0c0d4"
      },
      "execution_count": null,
      "outputs": [
        {
          "output_type": "display_data",
          "data": {
            "text/plain": [
              "<Figure size 720x360 with 1 Axes>"
            ],
            "image/png": "[encoded data removed]"
          },
          "metadata": {
            "needs_background": "light"
          }
        }
      ]
    },
    {
      "cell_type": "markdown",
      "source": [
        "## <b> which attack type is used by the most deadly gang :- Taliban"
      ],
      "metadata": {
        "id": "1Ir2c5dERBQ_"
      }
    },
    {
      "cell_type": "code",
      "source": [
        "# Installing the needed library\n",
        "\n",
        "!pip install squarify\n",
        "import squarify"
      ],
      "metadata": {
        "id": "FNfZAPjBTBBO",
        "colab": {
          "base_uri": "https://localhost:8080/"
        },
        "outputId": "299500b2-1b49-485e-c59d-4f986a0ca04c"
      },
      "execution_count": null,
      "outputs": [
        {
          "output_type": "stream",
          "name": "stdout",
          "text": [
            "Looking in indexes: https://pypi.org/simple, https://us-python.pkg.dev/colab-wheels/public/simple/\n",
            "Requirement already satisfied: squarify in /usr/local/lib/python3.7/dist-packages (0.4.3)\n"
          ]
        }
      ]
    },
    {
      "cell_type": "code",
      "source": [
        "gname = \"Taliban\"\n",
        "def treeplot(data,gang_name):\n",
        "    plt.subplots(figsize=(10, 10))\n",
        "    w_t = pd.DataFrame(terrorism_data_new[terrorism_data_new['gang_name']==gname]['weapon_type'].value_counts())\n",
        "    w_t.reset_index(level=0,inplace=True)\n",
        "    t = squarify.plot(sizes=w_t[\"weapon_type\"],label=w_t[\"index\"],alpha=0.8)\n",
        "    plt.show()"
      ],
      "metadata": {
        "id": "K4F1dVO1Q2ZK"
      },
      "execution_count": null,
      "outputs": []
    },
    {
      "cell_type": "code",
      "source": [
        "# Plotting the Heat Map\n",
        "treeplot(terrorism_data_new,\"Taliban\")"
      ],
      "metadata": {
        "id": "IpfvfTnvTKrc",
        "colab": {
          "base_uri": "https://localhost:8080/",
          "height": 596
        },
        "outputId": "41df8007-aa01-4fa0-c1f6-f2a94d35a02e"
      },
      "execution_count": null,
      "outputs": [
        {
          "output_type": "display_data",
          "data": {
            "text/plain": [
              "<Figure size 720x720 with 1 Axes>"
            ],
            "image/png": "[encoded data removed]"
          },
          "metadata": {
            "needs_background": "light"
          }
        }
      ]
    },
    {
      "cell_type": "markdown",
      "source": [
        "## Conclusion :- Firearms and Explovies have been Taliban's favorite weapon type. This has been same for many terrorist groups.\n"
      ],
      "metadata": {
        "id": "2V-tBsofBV21"
      }
    },
    {
      "cell_type": "markdown",
      "source": [
        "## <b> What was the most common target of the terrorist <b>"
      ],
      "metadata": {
        "id": "HBkyfwkOAbEJ"
      }
    },
    {
      "cell_type": "code",
      "source": [
        "common_targets = terrorism_data_new['target_type'].value_counts().head(10)"
      ],
      "metadata": {
        "id": "aIwWbq-0CEgh"
      },
      "execution_count": null,
      "outputs": []
    },
    {
      "cell_type": "code",
      "source": [
        "# Plotting the horizontal Bar graph\n",
        "palette = sns.color_palette(\"Spectral\", 10).as_hex()\n",
        "\n",
        "common_targets.plot(kind = 'barh',color = palette , grid = True).patch.set_facecolor('#f0ffff')\n",
        "\n",
        "# Set a title of the current axes.\n",
        "plt.title('Most common Target', fontsize = 25)\n",
        "\n",
        "# Set the x and y axis label\n",
        "plt.xlabel('Target of the terrorist', fontsize = 15)\n",
        "plt.ylabel('No. of attacks', fontsize = 15)\n",
        "\n",
        "# Setting the figure size\n",
        "plt.rcParams['figure.figsize'] = (10, 5)\n",
        "\n",
        "# Display a figure.\n",
        "plt.show()"
      ],
      "metadata": {
        "id": "2BRvZRjaKXbY",
        "colab": {
          "base_uri": "https://localhost:8080/",
          "height": 364
        },
        "outputId": "bcfa31b5-875d-45e1-f413-d09e19e17014"
      },
      "execution_count": null,
      "outputs": [
        {
          "output_type": "display_data",
          "data": {
            "text/plain": [
              "<Figure size 720x360 with 1 Axes>"
            ],
            "image/png": "[encoded data removed]"
          },
          "metadata": {
            "needs_background": "light"
          }
        }
      ]
    },
    {
      "cell_type": "markdown",
      "source": [
        "## Conclusion :- The most common target of the Terrorist are the 'Private Citizens & Property' "
      ],
      "metadata": {
        "id": "CMTqyEucByDd"
      }
    },
    {
      "cell_type": "markdown",
      "source": [
        "## <b> Which year has the most number of casualties"
      ],
      "metadata": {
        "id": "5cJ_WR8lKyLy"
      }
    },
    {
      "cell_type": "code",
      "source": [
        "casualties = terrorism_data_new.groupby('year').sum()['no_of_kills']"
      ],
      "metadata": {
        "id": "ndoOv176OGWf"
      },
      "execution_count": null,
      "outputs": []
    },
    {
      "cell_type": "code",
      "source": [
        "# Plotting the Bar graph\n",
        "casualties.plot(kind = 'bar', color = 'hotpink', edgecolor='black').patch.set_facecolor('#f0ffff')\n",
        "\n",
        "# Set a title of the current axes.\n",
        "plt.title('Casualties per year', fontsize = 25)\n",
        "\n",
        "# Set the x and y axis label\n",
        "plt.ylabel('No. of casualties', fontsize = 15)\n",
        "plt.xlabel('Year', fontsize = 15)\n",
        "\n",
        "# Setting the figure size\n",
        "plt.rcParams['figure.figsize'] = (20, 5)\n",
        "\n",
        "# Display a figure.\n",
        "plt.show()"
      ],
      "metadata": {
        "id": "HOJ8UTNeOHl1",
        "colab": {
          "base_uri": "https://localhost:8080/",
          "height": 379
        },
        "outputId": "e80ec49e-7115-4e35-a316-a09240126099"
      },
      "execution_count": null,
      "outputs": [
        {
          "output_type": "display_data",
          "data": {
            "text/plain": [
              "<Figure size 1440x360 with 1 Axes>"
            ],
            "image/png": "[encoded data removed]"
          },
          "metadata": {
            "needs_background": "light"
          }
        }
      ]
    },
    {
      "cell_type": "markdown",
      "source": [
        "## Conclusion :- From the above graph in the year 2014 has the most number of casualties"
      ],
      "metadata": {
        "id": "813NaxuoCHnn"
      }
    },
    {
      "cell_type": "markdown",
      "source": [
        "## <b> success v/s failed attacks country wise"
      ],
      "metadata": {
        "id": "Y8Ot3pOrPCUe"
      }
    },
    {
      "cell_type": "code",
      "source": [
        "attacks = terrorism_data_new.groupby(['success','region']).count()['attack_type'].unstack()\n",
        "attacks"
      ],
      "metadata": {
        "id": "rm2htZUFJ5_X",
        "colab": {
          "base_uri": "https://localhost:8080/",
          "height": 205
        },
        "outputId": "5989f44e-6686-4e0d-91f9-9a593ecdcd92"
      },
      "execution_count": null,
      "outputs": [
        {
          "output_type": "execute_result",
          "data": {
            "text/plain": [
              "region   Australasia & Oceania  Central America & Caribbean  Central Asia  \\\n",
              "success                                                                     \n",
              "0                           42                          365            58   \n",
              "1                          240                         9979           505   \n",
              "\n",
              "region   East Asia  Eastern Europe  Middle East & North Africa  North America  \\\n",
              "success                                                                         \n",
              "0              122             707                        6155            562   \n",
              "1              680            4437                       44319           2894   \n",
              "\n",
              "region   South America  South Asia  Southeast Asia  Sub-Saharan Africa  \\\n",
              "success                                                                  \n",
              "0                 1358        5605            1334                1273   \n",
              "1                17620       39369           11151               16277   \n",
              "\n",
              "region   Western Europe  \n",
              "success                  \n",
              "0                  2478  \n",
              "1                 14161  "
            ],
            "text/html": [
              "\n",
              "  <div id=\"df-40da4be2-5a18-41fc-9201-91a542dfde69\">\n",
              "    <div class=\"colab-df-container\">\n",
              "      <div>\n",
              "<style scoped>\n",
              "    .dataframe tbody tr th:only-of-type {\n",
              "        vertical-align: middle;\n",
              "    }\n",
              "\n",
              "    .dataframe tbody tr th {\n",
              "        vertical-align: top;\n",
              "    }\n",
              "\n",
              "    .dataframe thead th {\n",
              "        text-align: right;\n",
              "    }\n",
              "</style>\n",
              "<table border=\"1\" class=\"dataframe\">\n",
              "  <thead>\n",
              "    <tr style=\"text-align: right;\">\n",
              "      <th>region</th>\n",
              "      <th>Australasia &amp; Oceania</th>\n",
              "      <th>Central America &amp; Caribbean</th>\n",
              "      <th>Central Asia</th>\n",
              "      <th>East Asia</th>\n",
              "      <th>Eastern Europe</th>\n",
              "      <th>Middle East &amp; North Africa</th>\n",
              "      <th>North America</th>\n",
              "      <th>South America</th>\n",
              "      <th>South Asia</th>\n",
              "      <th>Southeast Asia</th>\n",
              "      <th>Sub-Saharan Africa</th>\n",
              "      <th>Western Europe</th>\n",
              "    </tr>\n",
              "    <tr>\n",
              "      <th>success</th>\n",
              "      <th></th>\n",
              "      <th></th>\n",
              "      <th></th>\n",
              "      <th></th>\n",
              "      <th></th>\n",
              "      <th></th>\n",
              "      <th></th>\n",
              "      <th></th>\n",
              "      <th></th>\n",
              "      <th></th>\n",
              "      <th></th>\n",
              "      <th></th>\n",
              "    </tr>\n",
              "  </thead>\n",
              "  <tbody>\n",
              "    <tr>\n",
              "      <th>0</th>\n",
              "      <td>42</td>\n",
              "      <td>365</td>\n",
              "      <td>58</td>\n",
              "      <td>122</td>\n",
              "      <td>707</td>\n",
              "      <td>6155</td>\n",
              "      <td>562</td>\n",
              "      <td>1358</td>\n",
              "      <td>5605</td>\n",
              "      <td>1334</td>\n",
              "      <td>1273</td>\n",
              "      <td>2478</td>\n",
              "    </tr>\n",
              "    <tr>\n",
              "      <th>1</th>\n",
              "      <td>240</td>\n",
              "      <td>9979</td>\n",
              "      <td>505</td>\n",
              "      <td>680</td>\n",
              "      <td>4437</td>\n",
              "      <td>44319</td>\n",
              "      <td>2894</td>\n",
              "      <td>17620</td>\n",
              "      <td>39369</td>\n",
              "      <td>11151</td>\n",
              "      <td>16277</td>\n",
              "      <td>14161</td>\n",
              "    </tr>\n",
              "  </tbody>\n",
              "</table>\n",
              "</div>\n",
              "      <button class=\"colab-df-convert\" onclick=\"convertToInteractive('df-40da4be2-5a18-41fc-9201-91a542dfde69')\"\n",
              "              title=\"Convert this dataframe to an interactive table.\"\n",
              "              style=\"display:none;\">\n",
              "        \n",
              "  <svg xmlns=\"http://www.w3.org/2000/svg\" height=\"24px\"viewBox=\"0 0 24 24\"\n",
              "       width=\"24px\">\n",
              "    <path d=\"M0 0h24v24H0V0z\" fill=\"none\"/>\n",
              "    <path d=\"M18.56 5.44l.94 2.06.94-2.06 2.06-.94-2.06-.94-.94-2.06-.94 2.06-2.06.94zm-11 1L8.5 8.5l.94-2.06 2.06-.94-2.06-.94L8.5 2.5l-.94 2.06-2.06.94zm10 10l.94 2.06.94-2.06 2.06-.94-2.06-.94-.94-2.06-.94 2.06-2.06.94z\"/><path d=\"M17.41 7.96l-1.37-1.37c-.4-.4-.92-.59-1.43-.59-.52 0-1.04.2-1.43.59L10.3 9.45l-7.72 7.72c-.78.78-.78 2.05 0 2.83L4 21.41c.39.39.9.59 1.41.59.51 0 1.02-.2 1.41-.59l7.78-7.78 2.81-2.81c.8-.78.8-2.07 0-2.86zM5.41 20L4 18.59l7.72-7.72 1.47 1.35L5.41 20z\"/>\n",
              "  </svg>\n",
              "      </button>\n",
              "      \n",
              "  <style>\n",
              "    .colab-df-container {\n",
              "      display:flex;\n",
              "      flex-wrap:wrap;\n",
              "      gap: 12px;\n",
              "    }\n",
              "\n",
              "    .colab-df-convert {\n",
              "      background-color: #E8F0FE;\n",
              "      border: none;\n",
              "      border-radius: 50%;\n",
              "      cursor: pointer;\n",
              "      display: none;\n",
              "      fill: #1967D2;\n",
              "      height: 32px;\n",
              "      padding: 0 0 0 0;\n",
              "      width: 32px;\n",
              "    }\n",
              "\n",
              "    .colab-df-convert:hover {\n",
              "      background-color: #E2EBFA;\n",
              "      box-shadow: 0px 1px 2px rgba(60, 64, 67, 0.3), 0px 1px 3px 1px rgba(60, 64, 67, 0.15);\n",
              "      fill: #174EA6;\n",
              "    }\n",
              "\n",
              "    [theme=dark] .colab-df-convert {\n",
              "      background-color: #3B4455;\n",
              "      fill: #D2E3FC;\n",
              "    }\n",
              "\n",
              "    [theme=dark] .colab-df-convert:hover {\n",
              "      background-color: #434B5C;\n",
              "      box-shadow: 0px 1px 3px 1px rgba(0, 0, 0, 0.15);\n",
              "      filter: drop-shadow(0px 1px 2px rgba(0, 0, 0, 0.3));\n",
              "      fill: #FFFFFF;\n",
              "    }\n",
              "  </style>\n",
              "\n",
              "      <script>\n",
              "        const buttonEl =\n",
              "          document.querySelector('#df-40da4be2-5a18-41fc-9201-91a542dfde69 button.colab-df-convert');\n",
              "        buttonEl.style.display =\n",
              "          google.colab.kernel.accessAllowed ? 'block' : 'none';\n",
              "\n",
              "        async function convertToInteractive(key) {\n",
              "          const element = document.querySelector('#df-40da4be2-5a18-41fc-9201-91a542dfde69');\n",
              "          const dataTable =\n",
              "            await google.colab.kernel.invokeFunction('convertToInteractive',\n",
              "                                                     [key], {});\n",
              "          if (!dataTable) return;\n",
              "\n",
              "          const docLinkHtml = 'Like what you see? Visit the ' +\n",
              "            '<a target=\"_blank\" href=https://colab.research.google.com/notebooks/data_table.ipynb>data table notebook</a>'\n",
              "            + ' to learn more about interactive tables.';\n",
              "          element.innerHTML = '';\n",
              "          dataTable['output_type'] = 'display_data';\n",
              "          await google.colab.output.renderOutput(dataTable, element);\n",
              "          const docLink = document.createElement('div');\n",
              "          docLink.innerHTML = docLinkHtml;\n",
              "          element.appendChild(docLink);\n",
              "        }\n",
              "      </script>\n",
              "    </div>\n",
              "  </div>\n",
              "  "
            ]
          },
          "metadata": {},
          "execution_count": 297
        }
      ]
    },
    {
      "cell_type": "code",
      "source": [
        "succ_attacks = attacks[attacks['success'] == 0]\n",
        "x1 = succ_attacks.region.to_list()\n",
        "y1 = succ_attacks.attack_type.to_list()"
      ],
      "metadata": {
        "id": "irk84YuD0CPy"
      },
      "execution_count": null,
      "outputs": []
    },
    {
      "cell_type": "code",
      "source": [
        "succ_attacks = succ_attacks.loc[:,['region', 'attack_type']]"
      ],
      "metadata": {
        "id": "vJ7dlXxmMqkU"
      },
      "execution_count": null,
      "outputs": []
    },
    {
      "cell_type": "code",
      "source": [
        ""
      ],
      "metadata": {
        "id": "YKPDFN2iO3bl"
      },
      "execution_count": null,
      "outputs": []
    },
    {
      "cell_type": "code",
      "source": [
        "succ_attacks.plot(kind = 'line')"
      ],
      "metadata": {
        "id": "1T6U7I97OMZ1"
      },
      "execution_count": null,
      "outputs": []
    },
    {
      "cell_type": "code",
      "source": [
        "fail_attacks = attacks[attacks['success'] == 1]\n",
        "x2 = fail_attacks.region.to_list()\n",
        "y2 = fail_attacks.attack_type.to_list()"
      ],
      "metadata": {
        "id": "MFv6Vvs2LiIB"
      },
      "execution_count": null,
      "outputs": []
    },
    {
      "cell_type": "code",
      "source": [
        "fail_attacks = fail_attacks.loc[:,['region', 'attack_type']]\n",
        "fail_attacks.plot()"
      ],
      "metadata": {
        "colab": {
          "base_uri": "https://localhost:8080/",
          "height": 337
        },
        "id": "-hHdt4VLNJES",
        "outputId": "21a11bee-a076-405d-f9cc-09c2c8788245"
      },
      "execution_count": null,
      "outputs": [
        {
          "output_type": "execute_result",
          "data": {
            "text/plain": [
              "<matplotlib.axes._subplots.AxesSubplot at 0x7ff1e0f5c490>"
            ]
          },
          "metadata": {},
          "execution_count": 269
        },
        {
          "output_type": "display_data",
          "data": {
            "text/plain": [
              "<Figure size 1440x360 with 1 Axes>"
            ],
            "image/png": "[encoded data removed]"
          },
          "metadata": {
            "needs_background": "light"
          }
        }
      ]
    },
    {
      "cell_type": "code",
      "source": [
        "# plotting the success points\n",
        "plt.plot(x1, y1, label = \"success\")\n",
        "\n",
        "# plotting the failure points\n",
        "plt.plot(x2, y2, label = \"failure\")\n",
        "\n",
        "# Set the x and y axis label\n",
        "plt.xlabel('Region', fontsize = 15)\n",
        "plt.ylabel('No. of Attacks', fontsize = 15)\n",
        "\n",
        "# Set a title of the current axes.\n",
        "plt.title('Success and failed attacks as per region', fontsize = 25)\n",
        "\n",
        "# Setting the figure size\n",
        "plt.rcParams['figure.figsize'] = (20, 5)\n",
        "\n",
        "# show a legend on the plot\n",
        "plt.legend()\n",
        "\n",
        "# Display a figure.\n",
        "plt.show()"
      ],
      "metadata": {
        "id": "jPhisGDQLiBC",
        "colab": {
          "base_uri": "https://localhost:8080/",
          "height": 364
        },
        "outputId": "a6c1bbc3-9c16-45e7-8d00-e9153189ca51"
      },
      "execution_count": null,
      "outputs": [
        {
          "output_type": "display_data",
          "data": {
            "text/plain": [
              "<Figure size 1440x360 with 1 Axes>"
            ],
            "image/png": "[encoded data removed]"
          },
          "metadata": {
            "needs_background": "light"
          }
        }
      ]
    },
    {
      "cell_type": "code",
      "source": [
        "x = terrorism_data_new.groupby(['year']).count()['region']\n",
        "x = terrorism_data_new.groupby(['region']).count()['year']"
      ],
      "metadata": {
        "id": "CmMNfF1NQYJ6"
      },
      "execution_count": null,
      "outputs": []
    },
    {
      "cell_type": "code",
      "source": [
        "print(x)"
      ],
      "metadata": {
        "colab": {
          "base_uri": "https://localhost:8080/"
        },
        "id": "gyJFSp5TQYIO",
        "outputId": "e128854d-8b91-412f-e281-c20e0d18fea5"
      },
      "execution_count": null,
      "outputs": [
        {
          "output_type": "stream",
          "name": "stdout",
          "text": [
            "region\n",
            "Australasia & Oceania            282\n",
            "Central America & Caribbean    10344\n",
            "Central Asia                     563\n",
            "East Asia                        802\n",
            "Eastern Europe                  5144\n",
            "Middle East & North Africa     50474\n",
            "North America                   3456\n",
            "South America                  18978\n",
            "South Asia                     44974\n",
            "Southeast Asia                 12485\n",
            "Sub-Saharan Africa             17550\n",
            "Western Europe                 16639\n",
            "Name: year, dtype: int64\n"
          ]
        }
      ]
    },
    {
      "cell_type": "markdown",
      "source": [
        "## <b> Why most dangerous country is most dangerous ***** </b>\n",
        "\n",
        "---\n",
        "\n",
        "\n"
      ],
      "metadata": {
        "id": "0RSDlialRogQ"
      }
    },
    {
      "cell_type": "markdown",
      "source": [
        "## 5. Challenges\n",
        "The dataset countains huge number of classes (3,453) and the frequency of each class ranged from 1 to about 6,575; which lead to removal of few classes that had frequency less than a particular number. This clipping has to be done by setting \"class_freq [threshold] = 11\" i.e., classes with frequency less than 11 are removed. Decreasing this number will lead to better classification results. It was necessary to come up with a number that can include as much number of classes yet provide better and acceptable classification results.\n",
        "\n",
        "The \"Folium\" API is used for chloropleth world map. The way it works is, it maps the country names with its corresponding geographic shape written in JSON, and then assigns the intensity of color with variable (number of kills, number of attacks etc). In order to make the mapping it was necessary to make sure that country text in the databse match with that of API. There were certain countries which had different names, for example : The database had \"United States\" but the API had \"United States of America\"; database had \"East Germany\", \"West Germany\" which in today's date are known as \"Germany\" so API had only \"Germany\". So these kind of data irregularities were resolved manually looking for each match in database and API."
      ],
      "metadata": {
        "id": "3sMWtruvfOoF"
      }
    },
    {
      "cell_type": "markdown",
      "source": [
        "## 6. Future Work\n",
        "As discussed in Section 3., we can use a neural network that penalizes the misclassified classes, so that it can capture and learn the rare classes as well.\n",
        "\n",
        "Given that we have learned the activities by almost all terrorist groups, can we predict the next move of such groups at given time and location? Such a task will require rigorous time series analysis and maybe more attributes to learn, like weather conditions, government body, economic status etc."
      ],
      "metadata": {
        "id": "RQgmfTXRfSnB"
      }
    },
    {
      "cell_type": "code",
      "source": [
        "## <b> analysing the trend of the most attacked region i.e middle east & north africa by decade ****\n",
        "\n",
        "#terrorism_data_new['region'] == 'Middle East & North Africa'\n",
        "\n",
        "#trend = terrorism_data_new[terrorism_data_new['region'] == 'Middle East & North Africa']['year']\n",
        "\n",
        "# Set a title of the chart. #, fontsize = 25\n",
        "# Set the x and y axis labels , fontsize = 15\n",
        "# Setting the figure size\n",
        "\n",
        "## <b> analysing the trend of the most attacked region i.e middle east & north africa by decade ****"
      ],
      "metadata": {
        "id": "D6HVZKCq8WV3"
      },
      "execution_count": null,
      "outputs": []
    },
    {
      "cell_type": "code",
      "source": [
        "#color_set = [\"#e82727\",\"#ff8649\",\"#ffc549\",\"#fced20\",\"#8fe222\",\"#22e28e\",\"#22e2db\",\"#1f85c4\",\"#361599\",\"#d11fce\"]\n"
      ],
      "metadata": {
        "id": "qzXOOHiGA1OT"
      },
      "execution_count": null,
      "outputs": []
    }
  ]
}